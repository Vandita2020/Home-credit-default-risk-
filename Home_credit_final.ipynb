{
  "nbformat": 4,
  "nbformat_minor": 0,
  "metadata": {
    "colab": {
      "name": "Home_credit_final.ipynb",
      "provenance": [],
      "collapsed_sections": []
    },
    "kernelspec": {
      "display_name": "Python 3",
      "name": "python3"
    },
    "language_info": {
      "name": "python"
    }
  },
  "cells": [
    {
      "cell_type": "markdown",
      "metadata": {
        "id": "fKdvsj6jYNOL"
      },
      "source": [
        "Importing all the required libraries"
      ]
    },
    {
      "cell_type": "code",
      "metadata": {
        "id": "qLLmCEmDRupX",
        "colab": {
          "base_uri": "https://localhost:8080/"
        },
        "outputId": "43ccdff8-3539-480c-be82-8abab89bb5fd"
      },
      "source": [
        "import pandas as pd\n",
        "import numpy as np\n",
        "import seaborn as sns\n",
        "import matplotlib.pyplot as plt\n",
        "from sklearn.utils import resample\n",
        "\n",
        "from sklearn.model_selection import train_test_split\n",
        "from sklearn.tree import DecisionTreeClassifier\n",
        "from sklearn.ensemble import RandomForestClassifier\n",
        "from sklearn.preprocessing import StandardScaler\n",
        "from sklearn.linear_model import LogisticRegression\n",
        "from sklearn.decomposition import PCA\n",
        "from imblearn.over_sampling import SMOTE\n",
        "from sklearn import metrics\n",
        "import sklearn.metrics as metrics\n",
        "\n",
        "from sklearn.metrics import classification_report,confusion_matrix\n",
        "from sklearn.metrics import roc_curve\n",
        "from sklearn.metrics import roc_auc_score\n",
        "from sklearn.metrics import precision_recall_curve\n",
        "from sklearn.metrics import f1_score\n",
        "from sklearn.metrics import auc\n",
        "from sklearn.metrics import average_precision_score"
      ],
      "execution_count": null,
      "outputs": [
        {
          "output_type": "stream",
          "text": [
            "/usr/local/lib/python3.7/dist-packages/sklearn/externals/six.py:31: FutureWarning: The module is deprecated in version 0.21 and will be removed in version 0.23 since we've dropped support for Python 2.7. Please rely on the official version of six (https://pypi.org/project/six/).\n",
            "  \"(https://pypi.org/project/six/).\", FutureWarning)\n",
            "/usr/local/lib/python3.7/dist-packages/sklearn/utils/deprecation.py:144: FutureWarning: The sklearn.neighbors.base module is  deprecated in version 0.22 and will be removed in version 0.24. The corresponding classes / functions should instead be imported from sklearn.neighbors. Anything that cannot be imported from sklearn.neighbors is now part of the private API.\n",
            "  warnings.warn(message, FutureWarning)\n"
          ],
          "name": "stderr"
        }
      ]
    },
    {
      "cell_type": "markdown",
      "metadata": {
        "id": "UkUsRiyUYTMu"
      },
      "source": [
        "Uploading dataset"
      ]
    },
    {
      "cell_type": "code",
      "metadata": {
        "id": "aJn8ChngIPxZ"
      },
      "source": [
        "app_train = pd.read_csv(\"application_train.csv\")\n",
        "app_test = pd.read_csv(\"application_test.csv\")\n",
        "\n"
      ],
      "execution_count": null,
      "outputs": []
    },
    {
      "cell_type": "markdown",
      "metadata": {
        "id": "weoh0V6BY0DE"
      },
      "source": [
        "Performing EDA on the dataset"
      ]
    },
    {
      "cell_type": "code",
      "metadata": {
        "colab": {
          "base_uri": "https://localhost:8080/",
          "height": 346
        },
        "id": "OIl10IRJLAzD",
        "outputId": "6e4afbee-4853-459a-9759-81d35aa13789"
      },
      "source": [
        "app_train.describe()"
      ],
      "execution_count": null,
      "outputs": [
        {
          "output_type": "execute_result",
          "data": {
            "text/html": [
              "<div>\n",
              "<style scoped>\n",
              "    .dataframe tbody tr th:only-of-type {\n",
              "        vertical-align: middle;\n",
              "    }\n",
              "\n",
              "    .dataframe tbody tr th {\n",
              "        vertical-align: top;\n",
              "    }\n",
              "\n",
              "    .dataframe thead th {\n",
              "        text-align: right;\n",
              "    }\n",
              "</style>\n",
              "<table border=\"1\" class=\"dataframe\">\n",
              "  <thead>\n",
              "    <tr style=\"text-align: right;\">\n",
              "      <th></th>\n",
              "      <th>SK_ID_CURR</th>\n",
              "      <th>TARGET</th>\n",
              "      <th>CNT_CHILDREN</th>\n",
              "      <th>AMT_INCOME_TOTAL</th>\n",
              "      <th>AMT_CREDIT</th>\n",
              "      <th>AMT_ANNUITY</th>\n",
              "      <th>AMT_GOODS_PRICE</th>\n",
              "      <th>REGION_POPULATION_RELATIVE</th>\n",
              "      <th>DAYS_BIRTH</th>\n",
              "      <th>DAYS_EMPLOYED</th>\n",
              "      <th>DAYS_REGISTRATION</th>\n",
              "      <th>DAYS_ID_PUBLISH</th>\n",
              "      <th>OWN_CAR_AGE</th>\n",
              "      <th>FLAG_MOBIL</th>\n",
              "      <th>FLAG_EMP_PHONE</th>\n",
              "      <th>FLAG_WORK_PHONE</th>\n",
              "      <th>FLAG_CONT_MOBILE</th>\n",
              "      <th>FLAG_PHONE</th>\n",
              "      <th>FLAG_EMAIL</th>\n",
              "      <th>CNT_FAM_MEMBERS</th>\n",
              "      <th>REGION_RATING_CLIENT</th>\n",
              "      <th>REGION_RATING_CLIENT_W_CITY</th>\n",
              "      <th>HOUR_APPR_PROCESS_START</th>\n",
              "      <th>REG_REGION_NOT_LIVE_REGION</th>\n",
              "      <th>REG_REGION_NOT_WORK_REGION</th>\n",
              "      <th>LIVE_REGION_NOT_WORK_REGION</th>\n",
              "      <th>REG_CITY_NOT_LIVE_CITY</th>\n",
              "      <th>REG_CITY_NOT_WORK_CITY</th>\n",
              "      <th>LIVE_CITY_NOT_WORK_CITY</th>\n",
              "      <th>EXT_SOURCE_1</th>\n",
              "      <th>EXT_SOURCE_2</th>\n",
              "      <th>EXT_SOURCE_3</th>\n",
              "      <th>APARTMENTS_AVG</th>\n",
              "      <th>BASEMENTAREA_AVG</th>\n",
              "      <th>YEARS_BEGINEXPLUATATION_AVG</th>\n",
              "      <th>YEARS_BUILD_AVG</th>\n",
              "      <th>COMMONAREA_AVG</th>\n",
              "      <th>ELEVATORS_AVG</th>\n",
              "      <th>ENTRANCES_AVG</th>\n",
              "      <th>FLOORSMAX_AVG</th>\n",
              "      <th>...</th>\n",
              "      <th>ENTRANCES_MEDI</th>\n",
              "      <th>FLOORSMAX_MEDI</th>\n",
              "      <th>FLOORSMIN_MEDI</th>\n",
              "      <th>LANDAREA_MEDI</th>\n",
              "      <th>LIVINGAPARTMENTS_MEDI</th>\n",
              "      <th>LIVINGAREA_MEDI</th>\n",
              "      <th>NONLIVINGAPARTMENTS_MEDI</th>\n",
              "      <th>NONLIVINGAREA_MEDI</th>\n",
              "      <th>TOTALAREA_MODE</th>\n",
              "      <th>OBS_30_CNT_SOCIAL_CIRCLE</th>\n",
              "      <th>DEF_30_CNT_SOCIAL_CIRCLE</th>\n",
              "      <th>OBS_60_CNT_SOCIAL_CIRCLE</th>\n",
              "      <th>DEF_60_CNT_SOCIAL_CIRCLE</th>\n",
              "      <th>DAYS_LAST_PHONE_CHANGE</th>\n",
              "      <th>FLAG_DOCUMENT_2</th>\n",
              "      <th>FLAG_DOCUMENT_3</th>\n",
              "      <th>FLAG_DOCUMENT_4</th>\n",
              "      <th>FLAG_DOCUMENT_5</th>\n",
              "      <th>FLAG_DOCUMENT_6</th>\n",
              "      <th>FLAG_DOCUMENT_7</th>\n",
              "      <th>FLAG_DOCUMENT_8</th>\n",
              "      <th>FLAG_DOCUMENT_9</th>\n",
              "      <th>FLAG_DOCUMENT_10</th>\n",
              "      <th>FLAG_DOCUMENT_11</th>\n",
              "      <th>FLAG_DOCUMENT_12</th>\n",
              "      <th>FLAG_DOCUMENT_13</th>\n",
              "      <th>FLAG_DOCUMENT_14</th>\n",
              "      <th>FLAG_DOCUMENT_15</th>\n",
              "      <th>FLAG_DOCUMENT_16</th>\n",
              "      <th>FLAG_DOCUMENT_17</th>\n",
              "      <th>FLAG_DOCUMENT_18</th>\n",
              "      <th>FLAG_DOCUMENT_19</th>\n",
              "      <th>FLAG_DOCUMENT_20</th>\n",
              "      <th>FLAG_DOCUMENT_21</th>\n",
              "      <th>AMT_REQ_CREDIT_BUREAU_HOUR</th>\n",
              "      <th>AMT_REQ_CREDIT_BUREAU_DAY</th>\n",
              "      <th>AMT_REQ_CREDIT_BUREAU_WEEK</th>\n",
              "      <th>AMT_REQ_CREDIT_BUREAU_MON</th>\n",
              "      <th>AMT_REQ_CREDIT_BUREAU_QRT</th>\n",
              "      <th>AMT_REQ_CREDIT_BUREAU_YEAR</th>\n",
              "    </tr>\n",
              "  </thead>\n",
              "  <tbody>\n",
              "    <tr>\n",
              "      <th>count</th>\n",
              "      <td>307511.000000</td>\n",
              "      <td>307511.000000</td>\n",
              "      <td>307511.000000</td>\n",
              "      <td>3.075110e+05</td>\n",
              "      <td>3.075110e+05</td>\n",
              "      <td>307499.000000</td>\n",
              "      <td>3.072330e+05</td>\n",
              "      <td>307511.000000</td>\n",
              "      <td>307511.000000</td>\n",
              "      <td>307511.000000</td>\n",
              "      <td>307511.000000</td>\n",
              "      <td>307511.000000</td>\n",
              "      <td>104582.000000</td>\n",
              "      <td>307511.000000</td>\n",
              "      <td>307511.000000</td>\n",
              "      <td>307511.000000</td>\n",
              "      <td>307511.000000</td>\n",
              "      <td>307511.000000</td>\n",
              "      <td>307511.000000</td>\n",
              "      <td>307509.000000</td>\n",
              "      <td>307511.000000</td>\n",
              "      <td>307511.000000</td>\n",
              "      <td>307511.000000</td>\n",
              "      <td>307511.000000</td>\n",
              "      <td>307511.000000</td>\n",
              "      <td>307511.000000</td>\n",
              "      <td>307511.000000</td>\n",
              "      <td>307511.000000</td>\n",
              "      <td>307511.000000</td>\n",
              "      <td>134133.000000</td>\n",
              "      <td>3.068510e+05</td>\n",
              "      <td>246546.000000</td>\n",
              "      <td>151450.00000</td>\n",
              "      <td>127568.000000</td>\n",
              "      <td>157504.000000</td>\n",
              "      <td>103023.000000</td>\n",
              "      <td>92646.000000</td>\n",
              "      <td>143620.000000</td>\n",
              "      <td>152683.000000</td>\n",
              "      <td>154491.000000</td>\n",
              "      <td>...</td>\n",
              "      <td>152683.000000</td>\n",
              "      <td>154491.000000</td>\n",
              "      <td>98869.000000</td>\n",
              "      <td>124921.000000</td>\n",
              "      <td>97312.000000</td>\n",
              "      <td>153161.000000</td>\n",
              "      <td>93997.000000</td>\n",
              "      <td>137829.000000</td>\n",
              "      <td>159080.000000</td>\n",
              "      <td>306490.000000</td>\n",
              "      <td>306490.000000</td>\n",
              "      <td>306490.000000</td>\n",
              "      <td>306490.000000</td>\n",
              "      <td>307510.000000</td>\n",
              "      <td>307511.000000</td>\n",
              "      <td>307511.000000</td>\n",
              "      <td>307511.000000</td>\n",
              "      <td>307511.000000</td>\n",
              "      <td>307511.000000</td>\n",
              "      <td>307511.000000</td>\n",
              "      <td>307511.000000</td>\n",
              "      <td>307511.000000</td>\n",
              "      <td>307511.000000</td>\n",
              "      <td>307511.000000</td>\n",
              "      <td>307511.000000</td>\n",
              "      <td>307511.000000</td>\n",
              "      <td>307511.000000</td>\n",
              "      <td>307511.00000</td>\n",
              "      <td>307511.000000</td>\n",
              "      <td>307511.000000</td>\n",
              "      <td>307511.000000</td>\n",
              "      <td>307511.000000</td>\n",
              "      <td>307511.000000</td>\n",
              "      <td>307511.000000</td>\n",
              "      <td>265992.000000</td>\n",
              "      <td>265992.000000</td>\n",
              "      <td>265992.000000</td>\n",
              "      <td>265992.000000</td>\n",
              "      <td>265992.000000</td>\n",
              "      <td>265992.000000</td>\n",
              "    </tr>\n",
              "    <tr>\n",
              "      <th>mean</th>\n",
              "      <td>278180.518577</td>\n",
              "      <td>0.080729</td>\n",
              "      <td>0.417052</td>\n",
              "      <td>1.687979e+05</td>\n",
              "      <td>5.990260e+05</td>\n",
              "      <td>27108.573909</td>\n",
              "      <td>5.383962e+05</td>\n",
              "      <td>0.020868</td>\n",
              "      <td>-16036.995067</td>\n",
              "      <td>63815.045904</td>\n",
              "      <td>-4986.120328</td>\n",
              "      <td>-2994.202373</td>\n",
              "      <td>12.061091</td>\n",
              "      <td>0.999997</td>\n",
              "      <td>0.819889</td>\n",
              "      <td>0.199368</td>\n",
              "      <td>0.998133</td>\n",
              "      <td>0.281066</td>\n",
              "      <td>0.056720</td>\n",
              "      <td>2.152665</td>\n",
              "      <td>2.052463</td>\n",
              "      <td>2.031521</td>\n",
              "      <td>12.063419</td>\n",
              "      <td>0.015144</td>\n",
              "      <td>0.050769</td>\n",
              "      <td>0.040659</td>\n",
              "      <td>0.078173</td>\n",
              "      <td>0.230454</td>\n",
              "      <td>0.179555</td>\n",
              "      <td>0.502130</td>\n",
              "      <td>5.143927e-01</td>\n",
              "      <td>0.510853</td>\n",
              "      <td>0.11744</td>\n",
              "      <td>0.088442</td>\n",
              "      <td>0.977735</td>\n",
              "      <td>0.752471</td>\n",
              "      <td>0.044621</td>\n",
              "      <td>0.078942</td>\n",
              "      <td>0.149725</td>\n",
              "      <td>0.226282</td>\n",
              "      <td>...</td>\n",
              "      <td>0.149213</td>\n",
              "      <td>0.225897</td>\n",
              "      <td>0.231625</td>\n",
              "      <td>0.067169</td>\n",
              "      <td>0.101954</td>\n",
              "      <td>0.108607</td>\n",
              "      <td>0.008651</td>\n",
              "      <td>0.028236</td>\n",
              "      <td>0.102547</td>\n",
              "      <td>1.422245</td>\n",
              "      <td>0.143421</td>\n",
              "      <td>1.405292</td>\n",
              "      <td>0.100049</td>\n",
              "      <td>-962.858788</td>\n",
              "      <td>0.000042</td>\n",
              "      <td>0.710023</td>\n",
              "      <td>0.000081</td>\n",
              "      <td>0.015115</td>\n",
              "      <td>0.088055</td>\n",
              "      <td>0.000192</td>\n",
              "      <td>0.081376</td>\n",
              "      <td>0.003896</td>\n",
              "      <td>0.000023</td>\n",
              "      <td>0.003912</td>\n",
              "      <td>0.000007</td>\n",
              "      <td>0.003525</td>\n",
              "      <td>0.002936</td>\n",
              "      <td>0.00121</td>\n",
              "      <td>0.009928</td>\n",
              "      <td>0.000267</td>\n",
              "      <td>0.008130</td>\n",
              "      <td>0.000595</td>\n",
              "      <td>0.000507</td>\n",
              "      <td>0.000335</td>\n",
              "      <td>0.006402</td>\n",
              "      <td>0.007000</td>\n",
              "      <td>0.034362</td>\n",
              "      <td>0.267395</td>\n",
              "      <td>0.265474</td>\n",
              "      <td>1.899974</td>\n",
              "    </tr>\n",
              "    <tr>\n",
              "      <th>std</th>\n",
              "      <td>102790.175348</td>\n",
              "      <td>0.272419</td>\n",
              "      <td>0.722121</td>\n",
              "      <td>2.371231e+05</td>\n",
              "      <td>4.024908e+05</td>\n",
              "      <td>14493.737315</td>\n",
              "      <td>3.694465e+05</td>\n",
              "      <td>0.013831</td>\n",
              "      <td>4363.988632</td>\n",
              "      <td>141275.766519</td>\n",
              "      <td>3522.886321</td>\n",
              "      <td>1509.450419</td>\n",
              "      <td>11.944812</td>\n",
              "      <td>0.001803</td>\n",
              "      <td>0.384280</td>\n",
              "      <td>0.399526</td>\n",
              "      <td>0.043164</td>\n",
              "      <td>0.449521</td>\n",
              "      <td>0.231307</td>\n",
              "      <td>0.910682</td>\n",
              "      <td>0.509034</td>\n",
              "      <td>0.502737</td>\n",
              "      <td>3.265832</td>\n",
              "      <td>0.122126</td>\n",
              "      <td>0.219526</td>\n",
              "      <td>0.197499</td>\n",
              "      <td>0.268444</td>\n",
              "      <td>0.421124</td>\n",
              "      <td>0.383817</td>\n",
              "      <td>0.211062</td>\n",
              "      <td>1.910602e-01</td>\n",
              "      <td>0.194844</td>\n",
              "      <td>0.10824</td>\n",
              "      <td>0.082438</td>\n",
              "      <td>0.059223</td>\n",
              "      <td>0.113280</td>\n",
              "      <td>0.076036</td>\n",
              "      <td>0.134576</td>\n",
              "      <td>0.100049</td>\n",
              "      <td>0.144641</td>\n",
              "      <td>...</td>\n",
              "      <td>0.100368</td>\n",
              "      <td>0.145067</td>\n",
              "      <td>0.161934</td>\n",
              "      <td>0.082167</td>\n",
              "      <td>0.093642</td>\n",
              "      <td>0.112260</td>\n",
              "      <td>0.047415</td>\n",
              "      <td>0.070166</td>\n",
              "      <td>0.107462</td>\n",
              "      <td>2.400989</td>\n",
              "      <td>0.446698</td>\n",
              "      <td>2.379803</td>\n",
              "      <td>0.362291</td>\n",
              "      <td>826.808487</td>\n",
              "      <td>0.006502</td>\n",
              "      <td>0.453752</td>\n",
              "      <td>0.009016</td>\n",
              "      <td>0.122010</td>\n",
              "      <td>0.283376</td>\n",
              "      <td>0.013850</td>\n",
              "      <td>0.273412</td>\n",
              "      <td>0.062295</td>\n",
              "      <td>0.004771</td>\n",
              "      <td>0.062424</td>\n",
              "      <td>0.002550</td>\n",
              "      <td>0.059268</td>\n",
              "      <td>0.054110</td>\n",
              "      <td>0.03476</td>\n",
              "      <td>0.099144</td>\n",
              "      <td>0.016327</td>\n",
              "      <td>0.089798</td>\n",
              "      <td>0.024387</td>\n",
              "      <td>0.022518</td>\n",
              "      <td>0.018299</td>\n",
              "      <td>0.083849</td>\n",
              "      <td>0.110757</td>\n",
              "      <td>0.204685</td>\n",
              "      <td>0.916002</td>\n",
              "      <td>0.794056</td>\n",
              "      <td>1.869295</td>\n",
              "    </tr>\n",
              "    <tr>\n",
              "      <th>min</th>\n",
              "      <td>100002.000000</td>\n",
              "      <td>0.000000</td>\n",
              "      <td>0.000000</td>\n",
              "      <td>2.565000e+04</td>\n",
              "      <td>4.500000e+04</td>\n",
              "      <td>1615.500000</td>\n",
              "      <td>4.050000e+04</td>\n",
              "      <td>0.000290</td>\n",
              "      <td>-25229.000000</td>\n",
              "      <td>-17912.000000</td>\n",
              "      <td>-24672.000000</td>\n",
              "      <td>-7197.000000</td>\n",
              "      <td>0.000000</td>\n",
              "      <td>0.000000</td>\n",
              "      <td>0.000000</td>\n",
              "      <td>0.000000</td>\n",
              "      <td>0.000000</td>\n",
              "      <td>0.000000</td>\n",
              "      <td>0.000000</td>\n",
              "      <td>1.000000</td>\n",
              "      <td>1.000000</td>\n",
              "      <td>1.000000</td>\n",
              "      <td>0.000000</td>\n",
              "      <td>0.000000</td>\n",
              "      <td>0.000000</td>\n",
              "      <td>0.000000</td>\n",
              "      <td>0.000000</td>\n",
              "      <td>0.000000</td>\n",
              "      <td>0.000000</td>\n",
              "      <td>0.014568</td>\n",
              "      <td>8.173617e-08</td>\n",
              "      <td>0.000527</td>\n",
              "      <td>0.00000</td>\n",
              "      <td>0.000000</td>\n",
              "      <td>0.000000</td>\n",
              "      <td>0.000000</td>\n",
              "      <td>0.000000</td>\n",
              "      <td>0.000000</td>\n",
              "      <td>0.000000</td>\n",
              "      <td>0.000000</td>\n",
              "      <td>...</td>\n",
              "      <td>0.000000</td>\n",
              "      <td>0.000000</td>\n",
              "      <td>0.000000</td>\n",
              "      <td>0.000000</td>\n",
              "      <td>0.000000</td>\n",
              "      <td>0.000000</td>\n",
              "      <td>0.000000</td>\n",
              "      <td>0.000000</td>\n",
              "      <td>0.000000</td>\n",
              "      <td>0.000000</td>\n",
              "      <td>0.000000</td>\n",
              "      <td>0.000000</td>\n",
              "      <td>0.000000</td>\n",
              "      <td>-4292.000000</td>\n",
              "      <td>0.000000</td>\n",
              "      <td>0.000000</td>\n",
              "      <td>0.000000</td>\n",
              "      <td>0.000000</td>\n",
              "      <td>0.000000</td>\n",
              "      <td>0.000000</td>\n",
              "      <td>0.000000</td>\n",
              "      <td>0.000000</td>\n",
              "      <td>0.000000</td>\n",
              "      <td>0.000000</td>\n",
              "      <td>0.000000</td>\n",
              "      <td>0.000000</td>\n",
              "      <td>0.000000</td>\n",
              "      <td>0.00000</td>\n",
              "      <td>0.000000</td>\n",
              "      <td>0.000000</td>\n",
              "      <td>0.000000</td>\n",
              "      <td>0.000000</td>\n",
              "      <td>0.000000</td>\n",
              "      <td>0.000000</td>\n",
              "      <td>0.000000</td>\n",
              "      <td>0.000000</td>\n",
              "      <td>0.000000</td>\n",
              "      <td>0.000000</td>\n",
              "      <td>0.000000</td>\n",
              "      <td>0.000000</td>\n",
              "    </tr>\n",
              "    <tr>\n",
              "      <th>25%</th>\n",
              "      <td>189145.500000</td>\n",
              "      <td>0.000000</td>\n",
              "      <td>0.000000</td>\n",
              "      <td>1.125000e+05</td>\n",
              "      <td>2.700000e+05</td>\n",
              "      <td>16524.000000</td>\n",
              "      <td>2.385000e+05</td>\n",
              "      <td>0.010006</td>\n",
              "      <td>-19682.000000</td>\n",
              "      <td>-2760.000000</td>\n",
              "      <td>-7479.500000</td>\n",
              "      <td>-4299.000000</td>\n",
              "      <td>5.000000</td>\n",
              "      <td>1.000000</td>\n",
              "      <td>1.000000</td>\n",
              "      <td>0.000000</td>\n",
              "      <td>1.000000</td>\n",
              "      <td>0.000000</td>\n",
              "      <td>0.000000</td>\n",
              "      <td>2.000000</td>\n",
              "      <td>2.000000</td>\n",
              "      <td>2.000000</td>\n",
              "      <td>10.000000</td>\n",
              "      <td>0.000000</td>\n",
              "      <td>0.000000</td>\n",
              "      <td>0.000000</td>\n",
              "      <td>0.000000</td>\n",
              "      <td>0.000000</td>\n",
              "      <td>0.000000</td>\n",
              "      <td>0.334007</td>\n",
              "      <td>3.924574e-01</td>\n",
              "      <td>0.370650</td>\n",
              "      <td>0.05770</td>\n",
              "      <td>0.044200</td>\n",
              "      <td>0.976700</td>\n",
              "      <td>0.687200</td>\n",
              "      <td>0.007800</td>\n",
              "      <td>0.000000</td>\n",
              "      <td>0.069000</td>\n",
              "      <td>0.166700</td>\n",
              "      <td>...</td>\n",
              "      <td>0.069000</td>\n",
              "      <td>0.166700</td>\n",
              "      <td>0.083300</td>\n",
              "      <td>0.018700</td>\n",
              "      <td>0.051300</td>\n",
              "      <td>0.045700</td>\n",
              "      <td>0.000000</td>\n",
              "      <td>0.000000</td>\n",
              "      <td>0.041200</td>\n",
              "      <td>0.000000</td>\n",
              "      <td>0.000000</td>\n",
              "      <td>0.000000</td>\n",
              "      <td>0.000000</td>\n",
              "      <td>-1570.000000</td>\n",
              "      <td>0.000000</td>\n",
              "      <td>0.000000</td>\n",
              "      <td>0.000000</td>\n",
              "      <td>0.000000</td>\n",
              "      <td>0.000000</td>\n",
              "      <td>0.000000</td>\n",
              "      <td>0.000000</td>\n",
              "      <td>0.000000</td>\n",
              "      <td>0.000000</td>\n",
              "      <td>0.000000</td>\n",
              "      <td>0.000000</td>\n",
              "      <td>0.000000</td>\n",
              "      <td>0.000000</td>\n",
              "      <td>0.00000</td>\n",
              "      <td>0.000000</td>\n",
              "      <td>0.000000</td>\n",
              "      <td>0.000000</td>\n",
              "      <td>0.000000</td>\n",
              "      <td>0.000000</td>\n",
              "      <td>0.000000</td>\n",
              "      <td>0.000000</td>\n",
              "      <td>0.000000</td>\n",
              "      <td>0.000000</td>\n",
              "      <td>0.000000</td>\n",
              "      <td>0.000000</td>\n",
              "      <td>0.000000</td>\n",
              "    </tr>\n",
              "    <tr>\n",
              "      <th>50%</th>\n",
              "      <td>278202.000000</td>\n",
              "      <td>0.000000</td>\n",
              "      <td>0.000000</td>\n",
              "      <td>1.471500e+05</td>\n",
              "      <td>5.135310e+05</td>\n",
              "      <td>24903.000000</td>\n",
              "      <td>4.500000e+05</td>\n",
              "      <td>0.018850</td>\n",
              "      <td>-15750.000000</td>\n",
              "      <td>-1213.000000</td>\n",
              "      <td>-4504.000000</td>\n",
              "      <td>-3254.000000</td>\n",
              "      <td>9.000000</td>\n",
              "      <td>1.000000</td>\n",
              "      <td>1.000000</td>\n",
              "      <td>0.000000</td>\n",
              "      <td>1.000000</td>\n",
              "      <td>0.000000</td>\n",
              "      <td>0.000000</td>\n",
              "      <td>2.000000</td>\n",
              "      <td>2.000000</td>\n",
              "      <td>2.000000</td>\n",
              "      <td>12.000000</td>\n",
              "      <td>0.000000</td>\n",
              "      <td>0.000000</td>\n",
              "      <td>0.000000</td>\n",
              "      <td>0.000000</td>\n",
              "      <td>0.000000</td>\n",
              "      <td>0.000000</td>\n",
              "      <td>0.505998</td>\n",
              "      <td>5.659614e-01</td>\n",
              "      <td>0.535276</td>\n",
              "      <td>0.08760</td>\n",
              "      <td>0.076300</td>\n",
              "      <td>0.981600</td>\n",
              "      <td>0.755200</td>\n",
              "      <td>0.021100</td>\n",
              "      <td>0.000000</td>\n",
              "      <td>0.137900</td>\n",
              "      <td>0.166700</td>\n",
              "      <td>...</td>\n",
              "      <td>0.137900</td>\n",
              "      <td>0.166700</td>\n",
              "      <td>0.208300</td>\n",
              "      <td>0.048700</td>\n",
              "      <td>0.076100</td>\n",
              "      <td>0.074900</td>\n",
              "      <td>0.000000</td>\n",
              "      <td>0.003100</td>\n",
              "      <td>0.068800</td>\n",
              "      <td>0.000000</td>\n",
              "      <td>0.000000</td>\n",
              "      <td>0.000000</td>\n",
              "      <td>0.000000</td>\n",
              "      <td>-757.000000</td>\n",
              "      <td>0.000000</td>\n",
              "      <td>1.000000</td>\n",
              "      <td>0.000000</td>\n",
              "      <td>0.000000</td>\n",
              "      <td>0.000000</td>\n",
              "      <td>0.000000</td>\n",
              "      <td>0.000000</td>\n",
              "      <td>0.000000</td>\n",
              "      <td>0.000000</td>\n",
              "      <td>0.000000</td>\n",
              "      <td>0.000000</td>\n",
              "      <td>0.000000</td>\n",
              "      <td>0.000000</td>\n",
              "      <td>0.00000</td>\n",
              "      <td>0.000000</td>\n",
              "      <td>0.000000</td>\n",
              "      <td>0.000000</td>\n",
              "      <td>0.000000</td>\n",
              "      <td>0.000000</td>\n",
              "      <td>0.000000</td>\n",
              "      <td>0.000000</td>\n",
              "      <td>0.000000</td>\n",
              "      <td>0.000000</td>\n",
              "      <td>0.000000</td>\n",
              "      <td>0.000000</td>\n",
              "      <td>1.000000</td>\n",
              "    </tr>\n",
              "    <tr>\n",
              "      <th>75%</th>\n",
              "      <td>367142.500000</td>\n",
              "      <td>0.000000</td>\n",
              "      <td>1.000000</td>\n",
              "      <td>2.025000e+05</td>\n",
              "      <td>8.086500e+05</td>\n",
              "      <td>34596.000000</td>\n",
              "      <td>6.795000e+05</td>\n",
              "      <td>0.028663</td>\n",
              "      <td>-12413.000000</td>\n",
              "      <td>-289.000000</td>\n",
              "      <td>-2010.000000</td>\n",
              "      <td>-1720.000000</td>\n",
              "      <td>15.000000</td>\n",
              "      <td>1.000000</td>\n",
              "      <td>1.000000</td>\n",
              "      <td>0.000000</td>\n",
              "      <td>1.000000</td>\n",
              "      <td>1.000000</td>\n",
              "      <td>0.000000</td>\n",
              "      <td>3.000000</td>\n",
              "      <td>2.000000</td>\n",
              "      <td>2.000000</td>\n",
              "      <td>14.000000</td>\n",
              "      <td>0.000000</td>\n",
              "      <td>0.000000</td>\n",
              "      <td>0.000000</td>\n",
              "      <td>0.000000</td>\n",
              "      <td>0.000000</td>\n",
              "      <td>0.000000</td>\n",
              "      <td>0.675053</td>\n",
              "      <td>6.636171e-01</td>\n",
              "      <td>0.669057</td>\n",
              "      <td>0.14850</td>\n",
              "      <td>0.112200</td>\n",
              "      <td>0.986600</td>\n",
              "      <td>0.823200</td>\n",
              "      <td>0.051500</td>\n",
              "      <td>0.120000</td>\n",
              "      <td>0.206900</td>\n",
              "      <td>0.333300</td>\n",
              "      <td>...</td>\n",
              "      <td>0.206900</td>\n",
              "      <td>0.333300</td>\n",
              "      <td>0.375000</td>\n",
              "      <td>0.086800</td>\n",
              "      <td>0.123100</td>\n",
              "      <td>0.130300</td>\n",
              "      <td>0.003900</td>\n",
              "      <td>0.026600</td>\n",
              "      <td>0.127600</td>\n",
              "      <td>2.000000</td>\n",
              "      <td>0.000000</td>\n",
              "      <td>2.000000</td>\n",
              "      <td>0.000000</td>\n",
              "      <td>-274.000000</td>\n",
              "      <td>0.000000</td>\n",
              "      <td>1.000000</td>\n",
              "      <td>0.000000</td>\n",
              "      <td>0.000000</td>\n",
              "      <td>0.000000</td>\n",
              "      <td>0.000000</td>\n",
              "      <td>0.000000</td>\n",
              "      <td>0.000000</td>\n",
              "      <td>0.000000</td>\n",
              "      <td>0.000000</td>\n",
              "      <td>0.000000</td>\n",
              "      <td>0.000000</td>\n",
              "      <td>0.000000</td>\n",
              "      <td>0.00000</td>\n",
              "      <td>0.000000</td>\n",
              "      <td>0.000000</td>\n",
              "      <td>0.000000</td>\n",
              "      <td>0.000000</td>\n",
              "      <td>0.000000</td>\n",
              "      <td>0.000000</td>\n",
              "      <td>0.000000</td>\n",
              "      <td>0.000000</td>\n",
              "      <td>0.000000</td>\n",
              "      <td>0.000000</td>\n",
              "      <td>0.000000</td>\n",
              "      <td>3.000000</td>\n",
              "    </tr>\n",
              "    <tr>\n",
              "      <th>max</th>\n",
              "      <td>456255.000000</td>\n",
              "      <td>1.000000</td>\n",
              "      <td>19.000000</td>\n",
              "      <td>1.170000e+08</td>\n",
              "      <td>4.050000e+06</td>\n",
              "      <td>258025.500000</td>\n",
              "      <td>4.050000e+06</td>\n",
              "      <td>0.072508</td>\n",
              "      <td>-7489.000000</td>\n",
              "      <td>365243.000000</td>\n",
              "      <td>0.000000</td>\n",
              "      <td>0.000000</td>\n",
              "      <td>91.000000</td>\n",
              "      <td>1.000000</td>\n",
              "      <td>1.000000</td>\n",
              "      <td>1.000000</td>\n",
              "      <td>1.000000</td>\n",
              "      <td>1.000000</td>\n",
              "      <td>1.000000</td>\n",
              "      <td>20.000000</td>\n",
              "      <td>3.000000</td>\n",
              "      <td>3.000000</td>\n",
              "      <td>23.000000</td>\n",
              "      <td>1.000000</td>\n",
              "      <td>1.000000</td>\n",
              "      <td>1.000000</td>\n",
              "      <td>1.000000</td>\n",
              "      <td>1.000000</td>\n",
              "      <td>1.000000</td>\n",
              "      <td>0.962693</td>\n",
              "      <td>8.549997e-01</td>\n",
              "      <td>0.896010</td>\n",
              "      <td>1.00000</td>\n",
              "      <td>1.000000</td>\n",
              "      <td>1.000000</td>\n",
              "      <td>1.000000</td>\n",
              "      <td>1.000000</td>\n",
              "      <td>1.000000</td>\n",
              "      <td>1.000000</td>\n",
              "      <td>1.000000</td>\n",
              "      <td>...</td>\n",
              "      <td>1.000000</td>\n",
              "      <td>1.000000</td>\n",
              "      <td>1.000000</td>\n",
              "      <td>1.000000</td>\n",
              "      <td>1.000000</td>\n",
              "      <td>1.000000</td>\n",
              "      <td>1.000000</td>\n",
              "      <td>1.000000</td>\n",
              "      <td>1.000000</td>\n",
              "      <td>348.000000</td>\n",
              "      <td>34.000000</td>\n",
              "      <td>344.000000</td>\n",
              "      <td>24.000000</td>\n",
              "      <td>0.000000</td>\n",
              "      <td>1.000000</td>\n",
              "      <td>1.000000</td>\n",
              "      <td>1.000000</td>\n",
              "      <td>1.000000</td>\n",
              "      <td>1.000000</td>\n",
              "      <td>1.000000</td>\n",
              "      <td>1.000000</td>\n",
              "      <td>1.000000</td>\n",
              "      <td>1.000000</td>\n",
              "      <td>1.000000</td>\n",
              "      <td>1.000000</td>\n",
              "      <td>1.000000</td>\n",
              "      <td>1.000000</td>\n",
              "      <td>1.00000</td>\n",
              "      <td>1.000000</td>\n",
              "      <td>1.000000</td>\n",
              "      <td>1.000000</td>\n",
              "      <td>1.000000</td>\n",
              "      <td>1.000000</td>\n",
              "      <td>1.000000</td>\n",
              "      <td>4.000000</td>\n",
              "      <td>9.000000</td>\n",
              "      <td>8.000000</td>\n",
              "      <td>27.000000</td>\n",
              "      <td>261.000000</td>\n",
              "      <td>25.000000</td>\n",
              "    </tr>\n",
              "  </tbody>\n",
              "</table>\n",
              "<p>8 rows × 106 columns</p>\n",
              "</div>"
            ],
            "text/plain": [
              "          SK_ID_CURR  ...  AMT_REQ_CREDIT_BUREAU_YEAR\n",
              "count  307511.000000  ...               265992.000000\n",
              "mean   278180.518577  ...                    1.899974\n",
              "std    102790.175348  ...                    1.869295\n",
              "min    100002.000000  ...                    0.000000\n",
              "25%    189145.500000  ...                    0.000000\n",
              "50%    278202.000000  ...                    1.000000\n",
              "75%    367142.500000  ...                    3.000000\n",
              "max    456255.000000  ...                   25.000000\n",
              "\n",
              "[8 rows x 106 columns]"
            ]
          },
          "metadata": {
            "tags": []
          },
          "execution_count": 3
        }
      ]
    },
    {
      "cell_type": "code",
      "metadata": {
        "colab": {
          "base_uri": "https://localhost:8080/"
        },
        "id": "UbWRMq-VOQmm",
        "outputId": "502c54d7-5e10-4d34-a2f2-21f2445ecaab"
      },
      "source": [
        "app_train['DAYS_BIRTH']"
      ],
      "execution_count": null,
      "outputs": [
        {
          "output_type": "execute_result",
          "data": {
            "text/plain": [
              "0         -9461\n",
              "1        -16765\n",
              "2        -19046\n",
              "3        -19005\n",
              "4        -19932\n",
              "          ...  \n",
              "307506    -9327\n",
              "307507   -20775\n",
              "307508   -14966\n",
              "307509   -11961\n",
              "307510   -16856\n",
              "Name: DAYS_BIRTH, Length: 307511, dtype: int64"
            ]
          },
          "metadata": {
            "tags": []
          },
          "execution_count": 4
        }
      ]
    },
    {
      "cell_type": "code",
      "metadata": {
        "colab": {
          "base_uri": "https://localhost:8080/"
        },
        "id": "RABNPIt9ZA1D",
        "outputId": "a074689d-ba5c-4191-c6a8-4d91d73e4503"
      },
      "source": [
        "app_train['DAYS_EMPLOYED'].describe()"
      ],
      "execution_count": null,
      "outputs": [
        {
          "output_type": "execute_result",
          "data": {
            "text/plain": [
              "count    307511.000000\n",
              "mean      63815.045904\n",
              "std      141275.766519\n",
              "min      -17912.000000\n",
              "25%       -2760.000000\n",
              "50%       -1213.000000\n",
              "75%        -289.000000\n",
              "max      365243.000000\n",
              "Name: DAYS_EMPLOYED, dtype: float64"
            ]
          },
          "metadata": {
            "tags": []
          },
          "execution_count": 5
        }
      ]
    },
    {
      "cell_type": "markdown",
      "metadata": {
        "id": "qyttlfO3evgh"
      },
      "source": [
        "Maximum value for this feature is 365243 days which is not possible. This seems like an outlier and must be removed."
      ]
    },
    {
      "cell_type": "code",
      "metadata": {
        "colab": {
          "base_uri": "https://localhost:8080/",
          "height": 351
        },
        "id": "JidReEJERq3Q",
        "outputId": "c82d9e5c-a993-4f7c-cf9e-fc27f4d5dced"
      },
      "source": [
        "sns.boxplot(app_train['DAYS_EMPLOYED'])"
      ],
      "execution_count": null,
      "outputs": [
        {
          "output_type": "stream",
          "text": [
            "/usr/local/lib/python3.7/dist-packages/seaborn/_decorators.py:43: FutureWarning: Pass the following variable as a keyword arg: x. From version 0.12, the only valid positional argument will be `data`, and passing other arguments without an explicit keyword will result in an error or misinterpretation.\n",
            "  FutureWarning\n"
          ],
          "name": "stderr"
        },
        {
          "output_type": "execute_result",
          "data": {
            "text/plain": [
              "<matplotlib.axes._subplots.AxesSubplot at 0x7fcbbac2bc90>"
            ]
          },
          "metadata": {
            "tags": []
          },
          "execution_count": 6
        },
        {
          "output_type": "display_data",
          "data": {
            "image/png": "[encoded data removed]",
            "text/plain": [
              "<Figure size 432x288 with 1 Axes>"
            ]
          },
          "metadata": {
            "tags": [],
            "needs_background": "light"
          }
        }
      ]
    },
    {
      "cell_type": "markdown",
      "metadata": {
        "id": "a08BtL_-Z8Kl"
      },
      "source": [
        "The numbers in DAYS_BIRTH and DAYS_EMPLOYED are negative integers. We will convert them into years by dividing them with -365.\n"
      ]
    },
    {
      "cell_type": "code",
      "metadata": {
        "id": "ms34APUDR63M"
      },
      "source": [
        "app_train['DAYS_EMPLOYED'].replace({365243:np.nan}, inplace=True)\n",
        "app_train['YEARS_EMPLOYED']=app_train['DAYS_EMPLOYED']/-365\n",
        "\n",
        "app_test['DAYS_EMPLOYED'].replace({365243:np.nan}, inplace=True)\n",
        "app_test['YEARS_EMPLOYED']=app_test['DAYS_EMPLOYED']/-365"
      ],
      "execution_count": null,
      "outputs": []
    },
    {
      "cell_type": "code",
      "metadata": {
        "colab": {
          "base_uri": "https://localhost:8080/",
          "height": 312
        },
        "id": "gGIOau7CSDZ-",
        "outputId": "d1316f65-c3b4-409d-ff58-ff6c4fb18768"
      },
      "source": [
        "app_train['YEARS_EMPLOYED'].plot.hist(title='Years Employed')\n",
        "plt.xlabel(\"Years Employed\")"
      ],
      "execution_count": null,
      "outputs": [
        {
          "output_type": "execute_result",
          "data": {
            "text/plain": [
              "Text(0.5, 0, 'Years Employed')"
            ]
          },
          "metadata": {
            "tags": []
          },
          "execution_count": 8
        },
        {
          "output_type": "display_data",
          "data": {
            "image/png": "[encoded data removed]",
            "text/plain": [
              "<Figure size 432x288 with 1 Axes>"
            ]
          },
          "metadata": {
            "tags": [],
            "needs_background": "light"
          }
        }
      ]
    },
    {
      "cell_type": "code",
      "metadata": {
        "id": "EnaywdXxg_GZ"
      },
      "source": [
        "app_train['DAYS_BIRTH'].replace({365243:np.nan}, inplace=True)\n",
        "app_train['YEARS_BIRTH']=app_train['DAYS_BIRTH']/-365\n",
        "\n",
        "app_test['DAYS_BIRTH'].replace({365243:np.nan}, inplace=True)\n",
        "app_test['YEARS_BIRTH']=app_test['DAYS_BIRTH']/-365\n"
      ],
      "execution_count": null,
      "outputs": []
    },
    {
      "cell_type": "code",
      "metadata": {
        "colab": {
          "base_uri": "https://localhost:8080/",
          "height": 398
        },
        "id": "IZioswQradG5",
        "outputId": "c9dba598-ac96-44fa-8017-fb99ecabf9fd"
      },
      "source": [
        "image=plt.figure(1)\n",
        "plt.suptitle(\"Visualizing basic info of applicant\")\n",
        "\n",
        "plt.subplot(221)\n",
        "app_train['CODE_GENDER'].value_counts(normalize=True).plot.bar(figsize=(20,10), title= 'Gender')\n",
        "\n",
        "plt.subplot(222)\n",
        "app_train['FLAG_OWN_CAR'].value_counts(normalize=True).plot.bar(title= 'Own Car?')\n",
        "\n",
        "plt.subplot(223)\n",
        "app_train['CNT_CHILDREN'].value_counts(normalize=True).plot.bar(title= 'Count Children')\n",
        "\n",
        "plt.subplot(224)\n",
        "app_train['FLAG_OWN_REALTY'].value_counts(normalize=True).plot.bar(figsize=(24,6), title= 'Has Realty?')\n"
      ],
      "execution_count": null,
      "outputs": [
        {
          "output_type": "execute_result",
          "data": {
            "text/plain": [
              "<matplotlib.axes._subplots.AxesSubplot at 0x7fcbb9b20250>"
            ]
          },
          "metadata": {
            "tags": []
          },
          "execution_count": 10
        },
        {
          "output_type": "display_data",
          "data": {
            "image/png": "[encoded data removed]",
            "text/plain": [
              "<Figure size 1728x432 with 4 Axes>"
            ]
          },
          "metadata": {
            "tags": [],
            "needs_background": "light"
          }
        }
      ]
    },
    {
      "cell_type": "markdown",
      "metadata": {
        "id": "IpU64ZWKbR9O"
      },
      "source": [
        "Looking at the plots we can see that most of the applicants owned a realty but not a car.\n",
        "Also most of the applicants were female and had no children."
      ]
    },
    {
      "cell_type": "code",
      "metadata": {
        "colab": {
          "base_uri": "https://localhost:8080/",
          "height": 404
        },
        "id": "MVnMVW6uaw4Z",
        "outputId": "66d4a651-9071-4fe9-97d1-4da835899bc5"
      },
      "source": [
        "b = app_train[\"TARGET\"].value_counts()\n",
        "df = pd.DataFrame({'labels': b.index,\n",
        "                   'values': b.values\n",
        "                  })\n",
        "image=plt.figure(figsize = (6,6))\n",
        "plt.title('Loans repaid - train dataset')\n",
        "sns.set_color_codes(\"colorblind\")\n",
        "sns.barplot(x = 'labels', y=\"values\", data=df)\n",
        "locs, labels = plt.xticks()\n",
        "plt.show()"
      ],
      "execution_count": null,
      "outputs": [
        {
          "output_type": "display_data",
          "data": {
            "image/png": "[encoded data removed]",
            "text/plain": [
              "<Figure size 432x432 with 1 Axes>"
            ]
          },
          "metadata": {
            "tags": [],
            "needs_background": "light"
          }
        }
      ]
    },
    {
      "cell_type": "markdown",
      "metadata": {
        "id": "7-R7o_uFbhYM"
      },
      "source": [
        "Looking at the plot we can say that most of loans were repaid."
      ]
    },
    {
      "cell_type": "code",
      "metadata": {
        "colab": {
          "base_uri": "https://localhost:8080/",
          "height": 485
        },
        "id": "1htImxpla_pD",
        "outputId": "9ac654c3-1f11-4834-82dc-7ba95f4c7d81"
      },
      "source": [
        "image=plt.figure(figsize = (6,6))\n",
        "app_train['OCCUPATION_TYPE'].value_counts(normalize=True).plot.bar(title= 'Occupation type')\n",
        "plt.show()"
      ],
      "execution_count": null,
      "outputs": [
        {
          "output_type": "display_data",
          "data": {
            "image/png": "[encoded data removed]",
            "text/plain": [
              "<Figure size 432x432 with 1 Axes>"
            ]
          },
          "metadata": {
            "tags": [],
            "needs_background": "light"
          }
        }
      ]
    },
    {
      "cell_type": "markdown",
      "metadata": {
        "id": "xoZo7W81bmJa"
      },
      "source": [
        "Looking at the plot we can see that most of the loan applicant were labourers followed by the sales staff. Also IT staff takes the lowest amount of loan"
      ]
    },
    {
      "cell_type": "markdown",
      "metadata": {
        "id": "57svV7cdfb_F"
      },
      "source": [
        "Starting with selecting features for the model"
      ]
    },
    {
      "cell_type": "code",
      "metadata": {
        "id": "6-sTy7-kJ18q",
        "colab": {
          "base_uri": "https://localhost:8080/"
        },
        "outputId": "de211e5b-1f02-4277-c2f6-d4137b7aa718"
      },
      "source": [
        "correlation = app_train.corr()['TARGET'].sort_values()\n",
        "print(correlation.tail(10))\n",
        "print(correlation.head(10))\n"
      ],
      "execution_count": null,
      "outputs": [
        {
          "output_type": "stream",
          "text": [
            "REG_CITY_NOT_LIVE_CITY         0.044395\n",
            "FLAG_EMP_PHONE                 0.045982\n",
            "REG_CITY_NOT_WORK_CITY         0.050994\n",
            "DAYS_ID_PUBLISH                0.051457\n",
            "DAYS_LAST_PHONE_CHANGE         0.055218\n",
            "REGION_RATING_CLIENT           0.058899\n",
            "REGION_RATING_CLIENT_W_CITY    0.060893\n",
            "DAYS_EMPLOYED                  0.074958\n",
            "DAYS_BIRTH                     0.078239\n",
            "TARGET                         1.000000\n",
            "Name: TARGET, dtype: float64\n",
            "EXT_SOURCE_3                 -0.178919\n",
            "EXT_SOURCE_2                 -0.160472\n",
            "EXT_SOURCE_1                 -0.155317\n",
            "YEARS_BIRTH                  -0.078239\n",
            "YEARS_EMPLOYED               -0.074958\n",
            "FLOORSMAX_AVG                -0.044003\n",
            "FLOORSMAX_MEDI               -0.043768\n",
            "FLOORSMAX_MODE               -0.043226\n",
            "AMT_GOODS_PRICE              -0.039645\n",
            "REGION_POPULATION_RELATIVE   -0.037227\n",
            "Name: TARGET, dtype: float64\n"
          ],
          "name": "stdout"
        }
      ]
    },
    {
      "cell_type": "markdown",
      "metadata": {
        "id": "l48IVqI6fh8K"
      },
      "source": [
        "Will select the features that are most correlated with the class label 'TARGET', along with some features that provide basic information of the loan applicant."
      ]
    },
    {
      "cell_type": "code",
      "metadata": {
        "id": "sfgcY30XKIvg",
        "colab": {
          "base_uri": "https://localhost:8080/",
          "height": 258
        },
        "outputId": "785d4c20-27f6-493b-83fd-39b4182032ae"
      },
      "source": [
        "new_app_train = app_train[['SK_ID_CURR','TARGET','NAME_CONTRACT_TYPE','CODE_GENDER','FLAG_OWN_CAR','AMT_INCOME_TOTAL','AMT_ANNUITY','AMT_CREDIT','AMT_GOODS_PRICE','OCCUPATION_TYPE','ORGANIZATION_TYPE','EXT_SOURCE_1','EXT_SOURCE_2','EXT_SOURCE_3','YEARS_EMPLOYED','FLOORSMAX_AVG','YEARS_BIRTH','REGION_RATING_CLIENT_W_CITY','REGION_RATING_CLIENT','DAYS_LAST_PHONE_CHANGE']]\n",
        "# new_app_train=app_train.copy()\n",
        "new_app_train.head()\n",
        "\n",
        "new_app_test = app_test[['SK_ID_CURR','NAME_CONTRACT_TYPE','CODE_GENDER','FLAG_OWN_CAR','AMT_INCOME_TOTAL','AMT_ANNUITY','AMT_CREDIT','AMT_GOODS_PRICE','OCCUPATION_TYPE','ORGANIZATION_TYPE','EXT_SOURCE_1','EXT_SOURCE_2','EXT_SOURCE_3','YEARS_EMPLOYED','FLOORSMAX_AVG','YEARS_BIRTH','REGION_RATING_CLIENT_W_CITY','REGION_RATING_CLIENT','DAYS_LAST_PHONE_CHANGE']]\n",
        "# new_app_test=app_test.copy()\n",
        "new_app_test.head()"
      ],
      "execution_count": null,
      "outputs": [
        {
          "output_type": "execute_result",
          "data": {
            "text/html": [
              "<div>\n",
              "<style scoped>\n",
              "    .dataframe tbody tr th:only-of-type {\n",
              "        vertical-align: middle;\n",
              "    }\n",
              "\n",
              "    .dataframe tbody tr th {\n",
              "        vertical-align: top;\n",
              "    }\n",
              "\n",
              "    .dataframe thead th {\n",
              "        text-align: right;\n",
              "    }\n",
              "</style>\n",
              "<table border=\"1\" class=\"dataframe\">\n",
              "  <thead>\n",
              "    <tr style=\"text-align: right;\">\n",
              "      <th></th>\n",
              "      <th>SK_ID_CURR</th>\n",
              "      <th>NAME_CONTRACT_TYPE</th>\n",
              "      <th>CODE_GENDER</th>\n",
              "      <th>FLAG_OWN_CAR</th>\n",
              "      <th>AMT_INCOME_TOTAL</th>\n",
              "      <th>AMT_ANNUITY</th>\n",
              "      <th>AMT_CREDIT</th>\n",
              "      <th>AMT_GOODS_PRICE</th>\n",
              "      <th>OCCUPATION_TYPE</th>\n",
              "      <th>ORGANIZATION_TYPE</th>\n",
              "      <th>EXT_SOURCE_1</th>\n",
              "      <th>EXT_SOURCE_2</th>\n",
              "      <th>EXT_SOURCE_3</th>\n",
              "      <th>YEARS_EMPLOYED</th>\n",
              "      <th>FLOORSMAX_AVG</th>\n",
              "      <th>YEARS_BIRTH</th>\n",
              "      <th>REGION_RATING_CLIENT_W_CITY</th>\n",
              "      <th>REGION_RATING_CLIENT</th>\n",
              "      <th>DAYS_LAST_PHONE_CHANGE</th>\n",
              "    </tr>\n",
              "  </thead>\n",
              "  <tbody>\n",
              "    <tr>\n",
              "      <th>0</th>\n",
              "      <td>100001</td>\n",
              "      <td>Cash loans</td>\n",
              "      <td>F</td>\n",
              "      <td>N</td>\n",
              "      <td>135000.0</td>\n",
              "      <td>20560.5</td>\n",
              "      <td>568800.0</td>\n",
              "      <td>450000.0</td>\n",
              "      <td>NaN</td>\n",
              "      <td>Kindergarten</td>\n",
              "      <td>0.752614</td>\n",
              "      <td>0.789654</td>\n",
              "      <td>0.159520</td>\n",
              "      <td>6.380822</td>\n",
              "      <td>0.125</td>\n",
              "      <td>52.715068</td>\n",
              "      <td>2</td>\n",
              "      <td>2</td>\n",
              "      <td>-1740.0</td>\n",
              "    </tr>\n",
              "    <tr>\n",
              "      <th>1</th>\n",
              "      <td>100005</td>\n",
              "      <td>Cash loans</td>\n",
              "      <td>M</td>\n",
              "      <td>N</td>\n",
              "      <td>99000.0</td>\n",
              "      <td>17370.0</td>\n",
              "      <td>222768.0</td>\n",
              "      <td>180000.0</td>\n",
              "      <td>Low-skill Laborers</td>\n",
              "      <td>Self-employed</td>\n",
              "      <td>0.564990</td>\n",
              "      <td>0.291656</td>\n",
              "      <td>0.432962</td>\n",
              "      <td>12.243836</td>\n",
              "      <td>NaN</td>\n",
              "      <td>49.490411</td>\n",
              "      <td>2</td>\n",
              "      <td>2</td>\n",
              "      <td>0.0</td>\n",
              "    </tr>\n",
              "    <tr>\n",
              "      <th>2</th>\n",
              "      <td>100013</td>\n",
              "      <td>Cash loans</td>\n",
              "      <td>M</td>\n",
              "      <td>Y</td>\n",
              "      <td>202500.0</td>\n",
              "      <td>69777.0</td>\n",
              "      <td>663264.0</td>\n",
              "      <td>630000.0</td>\n",
              "      <td>Drivers</td>\n",
              "      <td>Transport: type 3</td>\n",
              "      <td>NaN</td>\n",
              "      <td>0.699787</td>\n",
              "      <td>0.610991</td>\n",
              "      <td>12.213699</td>\n",
              "      <td>NaN</td>\n",
              "      <td>54.898630</td>\n",
              "      <td>2</td>\n",
              "      <td>2</td>\n",
              "      <td>-856.0</td>\n",
              "    </tr>\n",
              "    <tr>\n",
              "      <th>3</th>\n",
              "      <td>100028</td>\n",
              "      <td>Cash loans</td>\n",
              "      <td>F</td>\n",
              "      <td>N</td>\n",
              "      <td>315000.0</td>\n",
              "      <td>49018.5</td>\n",
              "      <td>1575000.0</td>\n",
              "      <td>1575000.0</td>\n",
              "      <td>Sales staff</td>\n",
              "      <td>Business Entity Type 3</td>\n",
              "      <td>0.525734</td>\n",
              "      <td>0.509677</td>\n",
              "      <td>0.612704</td>\n",
              "      <td>5.112329</td>\n",
              "      <td>0.375</td>\n",
              "      <td>38.290411</td>\n",
              "      <td>2</td>\n",
              "      <td>2</td>\n",
              "      <td>-1805.0</td>\n",
              "    </tr>\n",
              "    <tr>\n",
              "      <th>4</th>\n",
              "      <td>100038</td>\n",
              "      <td>Cash loans</td>\n",
              "      <td>M</td>\n",
              "      <td>Y</td>\n",
              "      <td>180000.0</td>\n",
              "      <td>32067.0</td>\n",
              "      <td>625500.0</td>\n",
              "      <td>625500.0</td>\n",
              "      <td>NaN</td>\n",
              "      <td>Business Entity Type 3</td>\n",
              "      <td>0.202145</td>\n",
              "      <td>0.425687</td>\n",
              "      <td>NaN</td>\n",
              "      <td>6.002740</td>\n",
              "      <td>NaN</td>\n",
              "      <td>35.726027</td>\n",
              "      <td>2</td>\n",
              "      <td>2</td>\n",
              "      <td>-821.0</td>\n",
              "    </tr>\n",
              "  </tbody>\n",
              "</table>\n",
              "</div>"
            ],
            "text/plain": [
              "   SK_ID_CURR NAME_CONTRACT_TYPE  ... REGION_RATING_CLIENT DAYS_LAST_PHONE_CHANGE\n",
              "0      100001         Cash loans  ...                    2                -1740.0\n",
              "1      100005         Cash loans  ...                    2                    0.0\n",
              "2      100013         Cash loans  ...                    2                 -856.0\n",
              "3      100028         Cash loans  ...                    2                -1805.0\n",
              "4      100038         Cash loans  ...                    2                 -821.0\n",
              "\n",
              "[5 rows x 19 columns]"
            ]
          },
          "metadata": {
            "tags": []
          },
          "execution_count": 14
        }
      ]
    },
    {
      "cell_type": "markdown",
      "metadata": {
        "id": "91eZH7EAhn6t"
      },
      "source": [
        "We see that feature DAYS_LAST_PHONE_CHANGE is also represented in negative numbers. We will convert this feature too in years, the same way we did with DAYS_BIRTH and DAYS_EMPLOYED"
      ]
    },
    {
      "cell_type": "code",
      "metadata": {
        "id": "qEjOJsyBMTTt",
        "colab": {
          "base_uri": "https://localhost:8080/"
        },
        "outputId": "5ad7ff2e-1960-4ef8-9d72-64ac2e76f6ba"
      },
      "source": [
        "new_app_train['YEARS_LAST_PHONE_CHANGE']=new_app_train['DAYS_LAST_PHONE_CHANGE']/-365\n",
        "\n",
        "new_app_test['YEARS_LAST_PHONE_CHANGE']=new_app_test['DAYS_LAST_PHONE_CHANGE']/-365"
      ],
      "execution_count": null,
      "outputs": [
        {
          "output_type": "stream",
          "text": [
            "/usr/local/lib/python3.7/dist-packages/ipykernel_launcher.py:1: SettingWithCopyWarning: \n",
            "A value is trying to be set on a copy of a slice from a DataFrame.\n",
            "Try using .loc[row_indexer,col_indexer] = value instead\n",
            "\n",
            "See the caveats in the documentation: https://pandas.pydata.org/pandas-docs/stable/user_guide/indexing.html#returning-a-view-versus-a-copy\n",
            "  \"\"\"Entry point for launching an IPython kernel.\n",
            "/usr/local/lib/python3.7/dist-packages/ipykernel_launcher.py:3: SettingWithCopyWarning: \n",
            "A value is trying to be set on a copy of a slice from a DataFrame.\n",
            "Try using .loc[row_indexer,col_indexer] = value instead\n",
            "\n",
            "See the caveats in the documentation: https://pandas.pydata.org/pandas-docs/stable/user_guide/indexing.html#returning-a-view-versus-a-copy\n",
            "  This is separate from the ipykernel package so we can avoid doing imports until\n"
          ],
          "name": "stderr"
        }
      ]
    },
    {
      "cell_type": "code",
      "metadata": {
        "id": "dRJhm692M_7e",
        "colab": {
          "base_uri": "https://localhost:8080/",
          "height": 258
        },
        "outputId": "abc2034c-e542-4497-df9e-0a19f7ecef8b"
      },
      "source": [
        "new_app_train = new_app_train.drop(columns=['DAYS_LAST_PHONE_CHANGE'])\n",
        "new_app_train.head()"
      ],
      "execution_count": null,
      "outputs": [
        {
          "output_type": "execute_result",
          "data": {
            "text/html": [
              "<div>\n",
              "<style scoped>\n",
              "    .dataframe tbody tr th:only-of-type {\n",
              "        vertical-align: middle;\n",
              "    }\n",
              "\n",
              "    .dataframe tbody tr th {\n",
              "        vertical-align: top;\n",
              "    }\n",
              "\n",
              "    .dataframe thead th {\n",
              "        text-align: right;\n",
              "    }\n",
              "</style>\n",
              "<table border=\"1\" class=\"dataframe\">\n",
              "  <thead>\n",
              "    <tr style=\"text-align: right;\">\n",
              "      <th></th>\n",
              "      <th>SK_ID_CURR</th>\n",
              "      <th>TARGET</th>\n",
              "      <th>NAME_CONTRACT_TYPE</th>\n",
              "      <th>CODE_GENDER</th>\n",
              "      <th>FLAG_OWN_CAR</th>\n",
              "      <th>AMT_INCOME_TOTAL</th>\n",
              "      <th>AMT_ANNUITY</th>\n",
              "      <th>AMT_CREDIT</th>\n",
              "      <th>AMT_GOODS_PRICE</th>\n",
              "      <th>OCCUPATION_TYPE</th>\n",
              "      <th>ORGANIZATION_TYPE</th>\n",
              "      <th>EXT_SOURCE_1</th>\n",
              "      <th>EXT_SOURCE_2</th>\n",
              "      <th>EXT_SOURCE_3</th>\n",
              "      <th>YEARS_EMPLOYED</th>\n",
              "      <th>FLOORSMAX_AVG</th>\n",
              "      <th>YEARS_BIRTH</th>\n",
              "      <th>REGION_RATING_CLIENT_W_CITY</th>\n",
              "      <th>REGION_RATING_CLIENT</th>\n",
              "      <th>YEARS_LAST_PHONE_CHANGE</th>\n",
              "    </tr>\n",
              "  </thead>\n",
              "  <tbody>\n",
              "    <tr>\n",
              "      <th>0</th>\n",
              "      <td>100002</td>\n",
              "      <td>1</td>\n",
              "      <td>Cash loans</td>\n",
              "      <td>M</td>\n",
              "      <td>N</td>\n",
              "      <td>202500.0</td>\n",
              "      <td>24700.5</td>\n",
              "      <td>406597.5</td>\n",
              "      <td>351000.0</td>\n",
              "      <td>Laborers</td>\n",
              "      <td>Business Entity Type 3</td>\n",
              "      <td>0.083037</td>\n",
              "      <td>0.262949</td>\n",
              "      <td>0.139376</td>\n",
              "      <td>1.745205</td>\n",
              "      <td>0.0833</td>\n",
              "      <td>25.920548</td>\n",
              "      <td>2</td>\n",
              "      <td>2</td>\n",
              "      <td>3.106849</td>\n",
              "    </tr>\n",
              "    <tr>\n",
              "      <th>1</th>\n",
              "      <td>100003</td>\n",
              "      <td>0</td>\n",
              "      <td>Cash loans</td>\n",
              "      <td>F</td>\n",
              "      <td>N</td>\n",
              "      <td>270000.0</td>\n",
              "      <td>35698.5</td>\n",
              "      <td>1293502.5</td>\n",
              "      <td>1129500.0</td>\n",
              "      <td>Core staff</td>\n",
              "      <td>School</td>\n",
              "      <td>0.311267</td>\n",
              "      <td>0.622246</td>\n",
              "      <td>NaN</td>\n",
              "      <td>3.254795</td>\n",
              "      <td>0.2917</td>\n",
              "      <td>45.931507</td>\n",
              "      <td>1</td>\n",
              "      <td>1</td>\n",
              "      <td>2.268493</td>\n",
              "    </tr>\n",
              "    <tr>\n",
              "      <th>2</th>\n",
              "      <td>100004</td>\n",
              "      <td>0</td>\n",
              "      <td>Revolving loans</td>\n",
              "      <td>M</td>\n",
              "      <td>Y</td>\n",
              "      <td>67500.0</td>\n",
              "      <td>6750.0</td>\n",
              "      <td>135000.0</td>\n",
              "      <td>135000.0</td>\n",
              "      <td>Laborers</td>\n",
              "      <td>Government</td>\n",
              "      <td>NaN</td>\n",
              "      <td>0.555912</td>\n",
              "      <td>0.729567</td>\n",
              "      <td>0.616438</td>\n",
              "      <td>NaN</td>\n",
              "      <td>52.180822</td>\n",
              "      <td>2</td>\n",
              "      <td>2</td>\n",
              "      <td>2.232877</td>\n",
              "    </tr>\n",
              "    <tr>\n",
              "      <th>3</th>\n",
              "      <td>100006</td>\n",
              "      <td>0</td>\n",
              "      <td>Cash loans</td>\n",
              "      <td>F</td>\n",
              "      <td>N</td>\n",
              "      <td>135000.0</td>\n",
              "      <td>29686.5</td>\n",
              "      <td>312682.5</td>\n",
              "      <td>297000.0</td>\n",
              "      <td>Laborers</td>\n",
              "      <td>Business Entity Type 3</td>\n",
              "      <td>NaN</td>\n",
              "      <td>0.650442</td>\n",
              "      <td>NaN</td>\n",
              "      <td>8.326027</td>\n",
              "      <td>NaN</td>\n",
              "      <td>52.068493</td>\n",
              "      <td>2</td>\n",
              "      <td>2</td>\n",
              "      <td>1.690411</td>\n",
              "    </tr>\n",
              "    <tr>\n",
              "      <th>4</th>\n",
              "      <td>100007</td>\n",
              "      <td>0</td>\n",
              "      <td>Cash loans</td>\n",
              "      <td>M</td>\n",
              "      <td>N</td>\n",
              "      <td>121500.0</td>\n",
              "      <td>21865.5</td>\n",
              "      <td>513000.0</td>\n",
              "      <td>513000.0</td>\n",
              "      <td>Core staff</td>\n",
              "      <td>Religion</td>\n",
              "      <td>NaN</td>\n",
              "      <td>0.322738</td>\n",
              "      <td>NaN</td>\n",
              "      <td>8.323288</td>\n",
              "      <td>NaN</td>\n",
              "      <td>54.608219</td>\n",
              "      <td>2</td>\n",
              "      <td>2</td>\n",
              "      <td>3.030137</td>\n",
              "    </tr>\n",
              "  </tbody>\n",
              "</table>\n",
              "</div>"
            ],
            "text/plain": [
              "   SK_ID_CURR  TARGET  ... REGION_RATING_CLIENT YEARS_LAST_PHONE_CHANGE\n",
              "0      100002       1  ...                    2                3.106849\n",
              "1      100003       0  ...                    1                2.268493\n",
              "2      100004       0  ...                    2                2.232877\n",
              "3      100006       0  ...                    2                1.690411\n",
              "4      100007       0  ...                    2                3.030137\n",
              "\n",
              "[5 rows x 20 columns]"
            ]
          },
          "metadata": {
            "tags": []
          },
          "execution_count": 16
        }
      ]
    },
    {
      "cell_type": "code",
      "metadata": {
        "id": "KPP54emATNBL",
        "colab": {
          "base_uri": "https://localhost:8080/",
          "height": 258
        },
        "outputId": "820f2876-bb58-44c5-f262-728b66cdf138"
      },
      "source": [
        "new_app_test = new_app_test.drop(columns=['DAYS_LAST_PHONE_CHANGE'])\n",
        "new_app_test.head()"
      ],
      "execution_count": null,
      "outputs": [
        {
          "output_type": "execute_result",
          "data": {
            "text/html": [
              "<div>\n",
              "<style scoped>\n",
              "    .dataframe tbody tr th:only-of-type {\n",
              "        vertical-align: middle;\n",
              "    }\n",
              "\n",
              "    .dataframe tbody tr th {\n",
              "        vertical-align: top;\n",
              "    }\n",
              "\n",
              "    .dataframe thead th {\n",
              "        text-align: right;\n",
              "    }\n",
              "</style>\n",
              "<table border=\"1\" class=\"dataframe\">\n",
              "  <thead>\n",
              "    <tr style=\"text-align: right;\">\n",
              "      <th></th>\n",
              "      <th>SK_ID_CURR</th>\n",
              "      <th>NAME_CONTRACT_TYPE</th>\n",
              "      <th>CODE_GENDER</th>\n",
              "      <th>FLAG_OWN_CAR</th>\n",
              "      <th>AMT_INCOME_TOTAL</th>\n",
              "      <th>AMT_ANNUITY</th>\n",
              "      <th>AMT_CREDIT</th>\n",
              "      <th>AMT_GOODS_PRICE</th>\n",
              "      <th>OCCUPATION_TYPE</th>\n",
              "      <th>ORGANIZATION_TYPE</th>\n",
              "      <th>EXT_SOURCE_1</th>\n",
              "      <th>EXT_SOURCE_2</th>\n",
              "      <th>EXT_SOURCE_3</th>\n",
              "      <th>YEARS_EMPLOYED</th>\n",
              "      <th>FLOORSMAX_AVG</th>\n",
              "      <th>YEARS_BIRTH</th>\n",
              "      <th>REGION_RATING_CLIENT_W_CITY</th>\n",
              "      <th>REGION_RATING_CLIENT</th>\n",
              "      <th>YEARS_LAST_PHONE_CHANGE</th>\n",
              "    </tr>\n",
              "  </thead>\n",
              "  <tbody>\n",
              "    <tr>\n",
              "      <th>0</th>\n",
              "      <td>100001</td>\n",
              "      <td>Cash loans</td>\n",
              "      <td>F</td>\n",
              "      <td>N</td>\n",
              "      <td>135000.0</td>\n",
              "      <td>20560.5</td>\n",
              "      <td>568800.0</td>\n",
              "      <td>450000.0</td>\n",
              "      <td>NaN</td>\n",
              "      <td>Kindergarten</td>\n",
              "      <td>0.752614</td>\n",
              "      <td>0.789654</td>\n",
              "      <td>0.159520</td>\n",
              "      <td>6.380822</td>\n",
              "      <td>0.125</td>\n",
              "      <td>52.715068</td>\n",
              "      <td>2</td>\n",
              "      <td>2</td>\n",
              "      <td>4.767123</td>\n",
              "    </tr>\n",
              "    <tr>\n",
              "      <th>1</th>\n",
              "      <td>100005</td>\n",
              "      <td>Cash loans</td>\n",
              "      <td>M</td>\n",
              "      <td>N</td>\n",
              "      <td>99000.0</td>\n",
              "      <td>17370.0</td>\n",
              "      <td>222768.0</td>\n",
              "      <td>180000.0</td>\n",
              "      <td>Low-skill Laborers</td>\n",
              "      <td>Self-employed</td>\n",
              "      <td>0.564990</td>\n",
              "      <td>0.291656</td>\n",
              "      <td>0.432962</td>\n",
              "      <td>12.243836</td>\n",
              "      <td>NaN</td>\n",
              "      <td>49.490411</td>\n",
              "      <td>2</td>\n",
              "      <td>2</td>\n",
              "      <td>-0.000000</td>\n",
              "    </tr>\n",
              "    <tr>\n",
              "      <th>2</th>\n",
              "      <td>100013</td>\n",
              "      <td>Cash loans</td>\n",
              "      <td>M</td>\n",
              "      <td>Y</td>\n",
              "      <td>202500.0</td>\n",
              "      <td>69777.0</td>\n",
              "      <td>663264.0</td>\n",
              "      <td>630000.0</td>\n",
              "      <td>Drivers</td>\n",
              "      <td>Transport: type 3</td>\n",
              "      <td>NaN</td>\n",
              "      <td>0.699787</td>\n",
              "      <td>0.610991</td>\n",
              "      <td>12.213699</td>\n",
              "      <td>NaN</td>\n",
              "      <td>54.898630</td>\n",
              "      <td>2</td>\n",
              "      <td>2</td>\n",
              "      <td>2.345205</td>\n",
              "    </tr>\n",
              "    <tr>\n",
              "      <th>3</th>\n",
              "      <td>100028</td>\n",
              "      <td>Cash loans</td>\n",
              "      <td>F</td>\n",
              "      <td>N</td>\n",
              "      <td>315000.0</td>\n",
              "      <td>49018.5</td>\n",
              "      <td>1575000.0</td>\n",
              "      <td>1575000.0</td>\n",
              "      <td>Sales staff</td>\n",
              "      <td>Business Entity Type 3</td>\n",
              "      <td>0.525734</td>\n",
              "      <td>0.509677</td>\n",
              "      <td>0.612704</td>\n",
              "      <td>5.112329</td>\n",
              "      <td>0.375</td>\n",
              "      <td>38.290411</td>\n",
              "      <td>2</td>\n",
              "      <td>2</td>\n",
              "      <td>4.945205</td>\n",
              "    </tr>\n",
              "    <tr>\n",
              "      <th>4</th>\n",
              "      <td>100038</td>\n",
              "      <td>Cash loans</td>\n",
              "      <td>M</td>\n",
              "      <td>Y</td>\n",
              "      <td>180000.0</td>\n",
              "      <td>32067.0</td>\n",
              "      <td>625500.0</td>\n",
              "      <td>625500.0</td>\n",
              "      <td>NaN</td>\n",
              "      <td>Business Entity Type 3</td>\n",
              "      <td>0.202145</td>\n",
              "      <td>0.425687</td>\n",
              "      <td>NaN</td>\n",
              "      <td>6.002740</td>\n",
              "      <td>NaN</td>\n",
              "      <td>35.726027</td>\n",
              "      <td>2</td>\n",
              "      <td>2</td>\n",
              "      <td>2.249315</td>\n",
              "    </tr>\n",
              "  </tbody>\n",
              "</table>\n",
              "</div>"
            ],
            "text/plain": [
              "   SK_ID_CURR NAME_CONTRACT_TYPE  ... REGION_RATING_CLIENT YEARS_LAST_PHONE_CHANGE\n",
              "0      100001         Cash loans  ...                    2                4.767123\n",
              "1      100005         Cash loans  ...                    2               -0.000000\n",
              "2      100013         Cash loans  ...                    2                2.345205\n",
              "3      100028         Cash loans  ...                    2                4.945205\n",
              "4      100038         Cash loans  ...                    2                2.249315\n",
              "\n",
              "[5 rows x 19 columns]"
            ]
          },
          "metadata": {
            "tags": []
          },
          "execution_count": 17
        }
      ]
    },
    {
      "cell_type": "markdown",
      "metadata": {
        "id": "bThRz72niYFQ"
      },
      "source": [
        "Since we are considering Occupation Type, I will drop the organization type feature."
      ]
    },
    {
      "cell_type": "code",
      "metadata": {
        "id": "xzqW0TRsNsd4"
      },
      "source": [
        "new_app_train = new_app_train.drop(columns=['ORGANIZATION_TYPE'])\n",
        "\n",
        "new_app_test = new_app_test.drop(columns=['ORGANIZATION_TYPE'])"
      ],
      "execution_count": null,
      "outputs": []
    },
    {
      "cell_type": "markdown",
      "metadata": {
        "id": "_8J3PEXKimOC"
      },
      "source": [
        "Factorizing the categorical features present in the dataset"
      ]
    },
    {
      "cell_type": "code",
      "metadata": {
        "id": "4C-MfQcENa90"
      },
      "source": [
        "for bin_feature in ['NAME_CONTRACT_TYPE','CODE_GENDER','FLAG_OWN_CAR','OCCUPATION_TYPE']:\n",
        "  new_app_train[bin_feature],uniques=pd.factorize(new_app_train[bin_feature])"
      ],
      "execution_count": null,
      "outputs": []
    },
    {
      "cell_type": "code",
      "metadata": {
        "id": "CSb4IZQqTYLW"
      },
      "source": [
        "for bin_feature in ['NAME_CONTRACT_TYPE','CODE_GENDER','FLAG_OWN_CAR','OCCUPATION_TYPE']:\n",
        "  new_app_test[bin_feature],uniques=pd.factorize(new_app_test[bin_feature])"
      ],
      "execution_count": null,
      "outputs": []
    },
    {
      "cell_type": "code",
      "metadata": {
        "id": "e0Azm8ixN6L6",
        "colab": {
          "base_uri": "https://localhost:8080/",
          "height": 224
        },
        "outputId": "18463ff5-3339-49cf-dfc8-b38a858ef1e1"
      },
      "source": [
        "new_app_train.head()"
      ],
      "execution_count": null,
      "outputs": [
        {
          "output_type": "execute_result",
          "data": {
            "text/html": [
              "<div>\n",
              "<style scoped>\n",
              "    .dataframe tbody tr th:only-of-type {\n",
              "        vertical-align: middle;\n",
              "    }\n",
              "\n",
              "    .dataframe tbody tr th {\n",
              "        vertical-align: top;\n",
              "    }\n",
              "\n",
              "    .dataframe thead th {\n",
              "        text-align: right;\n",
              "    }\n",
              "</style>\n",
              "<table border=\"1\" class=\"dataframe\">\n",
              "  <thead>\n",
              "    <tr style=\"text-align: right;\">\n",
              "      <th></th>\n",
              "      <th>SK_ID_CURR</th>\n",
              "      <th>TARGET</th>\n",
              "      <th>NAME_CONTRACT_TYPE</th>\n",
              "      <th>CODE_GENDER</th>\n",
              "      <th>FLAG_OWN_CAR</th>\n",
              "      <th>AMT_INCOME_TOTAL</th>\n",
              "      <th>AMT_ANNUITY</th>\n",
              "      <th>AMT_CREDIT</th>\n",
              "      <th>AMT_GOODS_PRICE</th>\n",
              "      <th>OCCUPATION_TYPE</th>\n",
              "      <th>EXT_SOURCE_1</th>\n",
              "      <th>EXT_SOURCE_2</th>\n",
              "      <th>EXT_SOURCE_3</th>\n",
              "      <th>YEARS_EMPLOYED</th>\n",
              "      <th>FLOORSMAX_AVG</th>\n",
              "      <th>YEARS_BIRTH</th>\n",
              "      <th>REGION_RATING_CLIENT_W_CITY</th>\n",
              "      <th>REGION_RATING_CLIENT</th>\n",
              "      <th>YEARS_LAST_PHONE_CHANGE</th>\n",
              "    </tr>\n",
              "  </thead>\n",
              "  <tbody>\n",
              "    <tr>\n",
              "      <th>0</th>\n",
              "      <td>100002</td>\n",
              "      <td>1</td>\n",
              "      <td>0</td>\n",
              "      <td>0</td>\n",
              "      <td>0</td>\n",
              "      <td>202500.0</td>\n",
              "      <td>24700.5</td>\n",
              "      <td>406597.5</td>\n",
              "      <td>351000.0</td>\n",
              "      <td>0</td>\n",
              "      <td>0.083037</td>\n",
              "      <td>0.262949</td>\n",
              "      <td>0.139376</td>\n",
              "      <td>1.745205</td>\n",
              "      <td>0.0833</td>\n",
              "      <td>25.920548</td>\n",
              "      <td>2</td>\n",
              "      <td>2</td>\n",
              "      <td>3.106849</td>\n",
              "    </tr>\n",
              "    <tr>\n",
              "      <th>1</th>\n",
              "      <td>100003</td>\n",
              "      <td>0</td>\n",
              "      <td>0</td>\n",
              "      <td>1</td>\n",
              "      <td>0</td>\n",
              "      <td>270000.0</td>\n",
              "      <td>35698.5</td>\n",
              "      <td>1293502.5</td>\n",
              "      <td>1129500.0</td>\n",
              "      <td>1</td>\n",
              "      <td>0.311267</td>\n",
              "      <td>0.622246</td>\n",
              "      <td>NaN</td>\n",
              "      <td>3.254795</td>\n",
              "      <td>0.2917</td>\n",
              "      <td>45.931507</td>\n",
              "      <td>1</td>\n",
              "      <td>1</td>\n",
              "      <td>2.268493</td>\n",
              "    </tr>\n",
              "    <tr>\n",
              "      <th>2</th>\n",
              "      <td>100004</td>\n",
              "      <td>0</td>\n",
              "      <td>1</td>\n",
              "      <td>0</td>\n",
              "      <td>1</td>\n",
              "      <td>67500.0</td>\n",
              "      <td>6750.0</td>\n",
              "      <td>135000.0</td>\n",
              "      <td>135000.0</td>\n",
              "      <td>0</td>\n",
              "      <td>NaN</td>\n",
              "      <td>0.555912</td>\n",
              "      <td>0.729567</td>\n",
              "      <td>0.616438</td>\n",
              "      <td>NaN</td>\n",
              "      <td>52.180822</td>\n",
              "      <td>2</td>\n",
              "      <td>2</td>\n",
              "      <td>2.232877</td>\n",
              "    </tr>\n",
              "    <tr>\n",
              "      <th>3</th>\n",
              "      <td>100006</td>\n",
              "      <td>0</td>\n",
              "      <td>0</td>\n",
              "      <td>1</td>\n",
              "      <td>0</td>\n",
              "      <td>135000.0</td>\n",
              "      <td>29686.5</td>\n",
              "      <td>312682.5</td>\n",
              "      <td>297000.0</td>\n",
              "      <td>0</td>\n",
              "      <td>NaN</td>\n",
              "      <td>0.650442</td>\n",
              "      <td>NaN</td>\n",
              "      <td>8.326027</td>\n",
              "      <td>NaN</td>\n",
              "      <td>52.068493</td>\n",
              "      <td>2</td>\n",
              "      <td>2</td>\n",
              "      <td>1.690411</td>\n",
              "    </tr>\n",
              "    <tr>\n",
              "      <th>4</th>\n",
              "      <td>100007</td>\n",
              "      <td>0</td>\n",
              "      <td>0</td>\n",
              "      <td>0</td>\n",
              "      <td>0</td>\n",
              "      <td>121500.0</td>\n",
              "      <td>21865.5</td>\n",
              "      <td>513000.0</td>\n",
              "      <td>513000.0</td>\n",
              "      <td>1</td>\n",
              "      <td>NaN</td>\n",
              "      <td>0.322738</td>\n",
              "      <td>NaN</td>\n",
              "      <td>8.323288</td>\n",
              "      <td>NaN</td>\n",
              "      <td>54.608219</td>\n",
              "      <td>2</td>\n",
              "      <td>2</td>\n",
              "      <td>3.030137</td>\n",
              "    </tr>\n",
              "  </tbody>\n",
              "</table>\n",
              "</div>"
            ],
            "text/plain": [
              "   SK_ID_CURR  TARGET  ...  REGION_RATING_CLIENT  YEARS_LAST_PHONE_CHANGE\n",
              "0      100002       1  ...                     2                 3.106849\n",
              "1      100003       0  ...                     1                 2.268493\n",
              "2      100004       0  ...                     2                 2.232877\n",
              "3      100006       0  ...                     2                 1.690411\n",
              "4      100007       0  ...                     2                 3.030137\n",
              "\n",
              "[5 rows x 19 columns]"
            ]
          },
          "metadata": {
            "tags": []
          },
          "execution_count": 21
        }
      ]
    },
    {
      "cell_type": "markdown",
      "metadata": {
        "id": "7xLTmd53izzg"
      },
      "source": [
        "Looking for NULL values in the dataset"
      ]
    },
    {
      "cell_type": "code",
      "metadata": {
        "id": "rtV_LKnCN9oU",
        "colab": {
          "base_uri": "https://localhost:8080/"
        },
        "outputId": "ef08f1f5-bfc0-4641-a990-0ecc26d0be1e"
      },
      "source": [
        "new_app_train.isnull().sum().sum()"
      ],
      "execution_count": null,
      "outputs": [
        {
          "output_type": "execute_result",
          "data": {
            "text/plain": [
              "443688"
            ]
          },
          "metadata": {
            "tags": []
          },
          "execution_count": 22
        }
      ]
    },
    {
      "cell_type": "code",
      "metadata": {
        "id": "e8JLPytfOvBf"
      },
      "source": [
        "def find_missing(data):\n",
        "    ## Number of missing values\n",
        "    missing_cnt = data.isnull().sum().values\n",
        "    ## Total\n",
        "    total = data.shape[0]\n",
        "    ##Percentage of Missing values\n",
        "    percentage = missing_cnt/total * 100\n",
        "    missing_df = pd.DataFrame(data={'Total': total, 'Missing Count' : missing_cnt,'Percentage' : percentage}, \n",
        "                              index=data.columns.values)\n",
        "    missing_df = missing_df[missing_df['Missing Count'] > 0].sort_values('Missing Count', ascending=False)\n",
        "    return missing_df"
      ],
      "execution_count": null,
      "outputs": []
    },
    {
      "cell_type": "code",
      "metadata": {
        "id": "PRqFkmu6OClq",
        "colab": {
          "base_uri": "https://localhost:8080/",
          "height": 297
        },
        "outputId": "f3db5f7b-5936-4677-865b-99a10236f49b"
      },
      "source": [
        "find_missing(new_app_train)"
      ],
      "execution_count": null,
      "outputs": [
        {
          "output_type": "execute_result",
          "data": {
            "text/html": [
              "<div>\n",
              "<style scoped>\n",
              "    .dataframe tbody tr th:only-of-type {\n",
              "        vertical-align: middle;\n",
              "    }\n",
              "\n",
              "    .dataframe tbody tr th {\n",
              "        vertical-align: top;\n",
              "    }\n",
              "\n",
              "    .dataframe thead th {\n",
              "        text-align: right;\n",
              "    }\n",
              "</style>\n",
              "<table border=\"1\" class=\"dataframe\">\n",
              "  <thead>\n",
              "    <tr style=\"text-align: right;\">\n",
              "      <th></th>\n",
              "      <th>Total</th>\n",
              "      <th>Missing Count</th>\n",
              "      <th>Percentage</th>\n",
              "    </tr>\n",
              "  </thead>\n",
              "  <tbody>\n",
              "    <tr>\n",
              "      <th>EXT_SOURCE_1</th>\n",
              "      <td>307511</td>\n",
              "      <td>173378</td>\n",
              "      <td>56.381073</td>\n",
              "    </tr>\n",
              "    <tr>\n",
              "      <th>FLOORSMAX_AVG</th>\n",
              "      <td>307511</td>\n",
              "      <td>153020</td>\n",
              "      <td>49.760822</td>\n",
              "    </tr>\n",
              "    <tr>\n",
              "      <th>EXT_SOURCE_3</th>\n",
              "      <td>307511</td>\n",
              "      <td>60965</td>\n",
              "      <td>19.825307</td>\n",
              "    </tr>\n",
              "    <tr>\n",
              "      <th>YEARS_EMPLOYED</th>\n",
              "      <td>307511</td>\n",
              "      <td>55374</td>\n",
              "      <td>18.007161</td>\n",
              "    </tr>\n",
              "    <tr>\n",
              "      <th>EXT_SOURCE_2</th>\n",
              "      <td>307511</td>\n",
              "      <td>660</td>\n",
              "      <td>0.214626</td>\n",
              "    </tr>\n",
              "    <tr>\n",
              "      <th>AMT_GOODS_PRICE</th>\n",
              "      <td>307511</td>\n",
              "      <td>278</td>\n",
              "      <td>0.090403</td>\n",
              "    </tr>\n",
              "    <tr>\n",
              "      <th>AMT_ANNUITY</th>\n",
              "      <td>307511</td>\n",
              "      <td>12</td>\n",
              "      <td>0.003902</td>\n",
              "    </tr>\n",
              "    <tr>\n",
              "      <th>YEARS_LAST_PHONE_CHANGE</th>\n",
              "      <td>307511</td>\n",
              "      <td>1</td>\n",
              "      <td>0.000325</td>\n",
              "    </tr>\n",
              "  </tbody>\n",
              "</table>\n",
              "</div>"
            ],
            "text/plain": [
              "                          Total  Missing Count  Percentage\n",
              "EXT_SOURCE_1             307511         173378   56.381073\n",
              "FLOORSMAX_AVG            307511         153020   49.760822\n",
              "EXT_SOURCE_3             307511          60965   19.825307\n",
              "YEARS_EMPLOYED           307511          55374   18.007161\n",
              "EXT_SOURCE_2             307511            660    0.214626\n",
              "AMT_GOODS_PRICE          307511            278    0.090403\n",
              "AMT_ANNUITY              307511             12    0.003902\n",
              "YEARS_LAST_PHONE_CHANGE  307511              1    0.000325"
            ]
          },
          "metadata": {
            "tags": []
          },
          "execution_count": 24
        }
      ]
    },
    {
      "cell_type": "code",
      "metadata": {
        "id": "bb-X9f-qTeFF",
        "colab": {
          "base_uri": "https://localhost:8080/",
          "height": 235
        },
        "outputId": "9c7a0026-94af-44d3-c63c-903b734e9087"
      },
      "source": [
        "find_missing(new_app_test)"
      ],
      "execution_count": null,
      "outputs": [
        {
          "output_type": "execute_result",
          "data": {
            "text/html": [
              "<div>\n",
              "<style scoped>\n",
              "    .dataframe tbody tr th:only-of-type {\n",
              "        vertical-align: middle;\n",
              "    }\n",
              "\n",
              "    .dataframe tbody tr th {\n",
              "        vertical-align: top;\n",
              "    }\n",
              "\n",
              "    .dataframe thead th {\n",
              "        text-align: right;\n",
              "    }\n",
              "</style>\n",
              "<table border=\"1\" class=\"dataframe\">\n",
              "  <thead>\n",
              "    <tr style=\"text-align: right;\">\n",
              "      <th></th>\n",
              "      <th>Total</th>\n",
              "      <th>Missing Count</th>\n",
              "      <th>Percentage</th>\n",
              "    </tr>\n",
              "  </thead>\n",
              "  <tbody>\n",
              "    <tr>\n",
              "      <th>FLOORSMAX_AVG</th>\n",
              "      <td>48744</td>\n",
              "      <td>23321</td>\n",
              "      <td>47.843837</td>\n",
              "    </tr>\n",
              "    <tr>\n",
              "      <th>EXT_SOURCE_1</th>\n",
              "      <td>48744</td>\n",
              "      <td>20532</td>\n",
              "      <td>42.122107</td>\n",
              "    </tr>\n",
              "    <tr>\n",
              "      <th>YEARS_EMPLOYED</th>\n",
              "      <td>48744</td>\n",
              "      <td>9274</td>\n",
              "      <td>19.025931</td>\n",
              "    </tr>\n",
              "    <tr>\n",
              "      <th>EXT_SOURCE_3</th>\n",
              "      <td>48744</td>\n",
              "      <td>8668</td>\n",
              "      <td>17.782701</td>\n",
              "    </tr>\n",
              "    <tr>\n",
              "      <th>AMT_ANNUITY</th>\n",
              "      <td>48744</td>\n",
              "      <td>24</td>\n",
              "      <td>0.049237</td>\n",
              "    </tr>\n",
              "    <tr>\n",
              "      <th>EXT_SOURCE_2</th>\n",
              "      <td>48744</td>\n",
              "      <td>8</td>\n",
              "      <td>0.016412</td>\n",
              "    </tr>\n",
              "  </tbody>\n",
              "</table>\n",
              "</div>"
            ],
            "text/plain": [
              "                Total  Missing Count  Percentage\n",
              "FLOORSMAX_AVG   48744          23321   47.843837\n",
              "EXT_SOURCE_1    48744          20532   42.122107\n",
              "YEARS_EMPLOYED  48744           9274   19.025931\n",
              "EXT_SOURCE_3    48744           8668   17.782701\n",
              "AMT_ANNUITY     48744             24    0.049237\n",
              "EXT_SOURCE_2    48744              8    0.016412"
            ]
          },
          "metadata": {
            "tags": []
          },
          "execution_count": 25
        }
      ]
    },
    {
      "cell_type": "markdown",
      "metadata": {
        "id": "HxdHBgV5jHcF"
      },
      "source": [
        "Replacing missing values with mean of their respective column "
      ]
    },
    {
      "cell_type": "code",
      "metadata": {
        "id": "Vdu30fe2O0zD"
      },
      "source": [
        "new_app_train['EXT_SOURCE_1'] = new_app_train['EXT_SOURCE_1'].fillna(new_app_train['EXT_SOURCE_1'].mean())\n",
        "new_app_train['EXT_SOURCE_2'] = new_app_train['EXT_SOURCE_2'].fillna(new_app_train['EXT_SOURCE_2'].mean())\n",
        "new_app_train['EXT_SOURCE_3'] = new_app_train['EXT_SOURCE_3'].fillna(new_app_train['EXT_SOURCE_3'].mean())\n",
        "new_app_train['FLOORSMAX_AVG'] = new_app_train['FLOORSMAX_AVG'].fillna(new_app_train['FLOORSMAX_AVG'].mean())\n",
        "new_app_train['AMT_GOODS_PRICE'] = new_app_train['AMT_GOODS_PRICE'].fillna(new_app_train['AMT_GOODS_PRICE'].mean())\n",
        "new_app_train['AMT_ANNUITY'] = new_app_train['AMT_ANNUITY'].fillna(new_app_train['AMT_ANNUITY'].mean())\n",
        "new_app_train['YEARS_LAST_PHONE_CHANGE'] = new_app_train['YEARS_LAST_PHONE_CHANGE'].fillna(new_app_train['YEARS_LAST_PHONE_CHANGE'].mean())\n",
        "new_app_train['YEARS_EMPLOYED'] = new_app_train['YEARS_EMPLOYED'].fillna(new_app_train['AMT_ANNUITY'].mean())"
      ],
      "execution_count": null,
      "outputs": []
    },
    {
      "cell_type": "code",
      "metadata": {
        "id": "kibikYJ0Ti3w"
      },
      "source": [
        "new_app_test['EXT_SOURCE_1'] = new_app_test['EXT_SOURCE_1'].fillna(new_app_test['EXT_SOURCE_1'].mean())\n",
        "new_app_test['EXT_SOURCE_2'] = new_app_test['EXT_SOURCE_2'].fillna(new_app_test['EXT_SOURCE_2'].mean())\n",
        "new_app_test['EXT_SOURCE_3'] = new_app_test['EXT_SOURCE_3'].fillna(new_app_test['EXT_SOURCE_3'].mean())\n",
        "new_app_test['FLOORSMAX_AVG'] = new_app_test['FLOORSMAX_AVG'].fillna(new_app_test['FLOORSMAX_AVG'].mean())\n",
        "new_app_test['AMT_ANNUITY'] = new_app_test['AMT_ANNUITY'].fillna(new_app_test['AMT_ANNUITY'].mean())\n",
        "new_app_test['YEARS_EMPLOYED'] = new_app_test['YEARS_EMPLOYED'].fillna(new_app_test['AMT_ANNUITY'].mean())"
      ],
      "execution_count": null,
      "outputs": []
    },
    {
      "cell_type": "code",
      "metadata": {
        "id": "BQUNOfQJP7DA",
        "colab": {
          "base_uri": "https://localhost:8080/"
        },
        "outputId": "63e12142-df19-435a-d18d-1b9d3bf7f0ae"
      },
      "source": [
        "new_app_train.isnull().sum().sum()\n",
        "# new_app_train.head()"
      ],
      "execution_count": null,
      "outputs": [
        {
          "output_type": "execute_result",
          "data": {
            "text/plain": [
              "0"
            ]
          },
          "metadata": {
            "tags": []
          },
          "execution_count": 28
        }
      ]
    },
    {
      "cell_type": "code",
      "metadata": {
        "id": "H_CjeNIdUHFn",
        "colab": {
          "base_uri": "https://localhost:8080/"
        },
        "outputId": "76d97f6c-70ef-4060-de17-1596b1cfa852"
      },
      "source": [
        "new_app_test.isnull().sum().sum()"
      ],
      "execution_count": null,
      "outputs": [
        {
          "output_type": "execute_result",
          "data": {
            "text/plain": [
              "0"
            ]
          },
          "metadata": {
            "tags": []
          },
          "execution_count": 29
        }
      ]
    },
    {
      "cell_type": "markdown",
      "metadata": {
        "id": "MaphseyXkytr"
      },
      "source": [
        "Mapping correlation heatmap of the features"
      ]
    },
    {
      "cell_type": "code",
      "metadata": {
        "id": "z-5_tRr7P-Le",
        "colab": {
          "base_uri": "https://localhost:8080/",
          "height": 451
        },
        "outputId": "8a730402-d9e3-42f0-ee4e-79dcb0fb4a25"
      },
      "source": [
        "train_corr = new_app_train.corr()\n",
        "sns.heatmap(train_corr, cmap=plt.cm.RdYlBu_r)\n",
        "plt.title('Correlation heatmap')"
      ],
      "execution_count": null,
      "outputs": [
        {
          "output_type": "execute_result",
          "data": {
            "text/plain": [
              "Text(0.5, 1.0, 'Correlation heatmap')"
            ]
          },
          "metadata": {
            "tags": []
          },
          "execution_count": 30
        },
        {
          "output_type": "display_data",
          "data": {
            "image/png": "[encoded data removed]",
            "text/plain": [
              "<Figure size 432x288 with 2 Axes>"
            ]
          },
          "metadata": {
            "tags": [],
            "needs_background": "light"
          }
        }
      ]
    },
    {
      "cell_type": "markdown",
      "metadata": {
        "id": "v-SJRKGuk601"
      },
      "source": [
        "Now we will start applying model on the dataset"
      ]
    },
    {
      "cell_type": "markdown",
      "metadata": {
        "id": "Ld-aswfpOA8z"
      },
      "source": [
        "Standardizing the dataset"
      ]
    },
    {
      "cell_type": "code",
      "metadata": {
        "id": "YZ_W64wBOAn-"
      },
      "source": [
        "new_app_trainset= new_app_train.drop(columns=['TARGET'])\n",
        "new_app_train_label = new_app_train['TARGET']\n"
      ],
      "execution_count": null,
      "outputs": []
    },
    {
      "cell_type": "code",
      "metadata": {
        "id": "h9RXKmixORiV"
      },
      "source": [
        "x=StandardScaler().fit_transform(new_app_trainset)\n",
        "new_app_trainset_sub =  pd.DataFrame(x, columns=list(new_app_trainset.columns))\n",
        "\n",
        "x_test = StandardScaler().fit_transform(new_app_test)\n",
        "new_app_test_sub = pd.DataFrame(x_test,columns=list(new_app_test.columns) )\n",
        "\n",
        "y_true = new_app_train_label"
      ],
      "execution_count": null,
      "outputs": []
    },
    {
      "cell_type": "markdown",
      "metadata": {
        "id": "4WNBYdSTyOCy"
      },
      "source": [
        "Before balancing the class label."
      ]
    },
    {
      "cell_type": "code",
      "metadata": {
        "id": "BWn9rFynv_7N"
      },
      "source": [
        "X_train,X_test,y_train,y_test = train_test_split(new_app_trainset_sub, y_true, random_state=0, test_size=0.3)"
      ],
      "execution_count": null,
      "outputs": []
    },
    {
      "cell_type": "code",
      "metadata": {
        "id": "MsiryWhgwTQD",
        "colab": {
          "base_uri": "https://localhost:8080/"
        },
        "outputId": "b867a6e7-28cd-4b87-b401-1810787a6770"
      },
      "source": [
        "#Model 1 Decision Tree\n",
        "dtree = DecisionTreeClassifier()\n",
        "dtree.fit(X_train,y_train)\n",
        "predictions = dtree.predict(X_test)\n",
        "print(classification_report(y_test,predictions))\n",
        "dt_accuracy = metrics.accuracy_score(y_test, predictions)\n",
        "print(\"Decision tree accuracy before sampling: \",str(dt_accuracy))"
      ],
      "execution_count": null,
      "outputs": [
        {
          "output_type": "stream",
          "text": [
            "              precision    recall  f1-score   support\n",
            "\n",
            "           0       0.93      0.91      0.92     84914\n",
            "           1       0.14      0.17      0.15      7340\n",
            "\n",
            "    accuracy                           0.85     92254\n",
            "   macro avg       0.53      0.54      0.54     92254\n",
            "weighted avg       0.86      0.85      0.86     92254\n",
            "\n",
            "Decision tree accuracy before sampling:  0.8533613718646346\n"
          ],
          "name": "stdout"
        }
      ]
    },
    {
      "cell_type": "code",
      "metadata": {
        "colab": {
          "base_uri": "https://localhost:8080/"
        },
        "id": "slubEjAjwiQu",
        "outputId": "4c6f3fa4-2f5b-421c-ec65-276285a83dd8"
      },
      "source": [
        "# Model 2 Random Forest Classifier\n",
        "rf = RandomForestClassifier(random_state=27)\n",
        "rf.fit(X_train,y_train)\n",
        "rf_predict = rf.predict(X_test)\n",
        "print(classification_report(y_test, rf_predict))\n",
        "rf_accuracy=metrics.accuracy_score(y_test, rf_predict)\n",
        "print(\"Random Forest accuracy before sampling: \"+str(rf_accuracy))"
      ],
      "execution_count": null,
      "outputs": [
        {
          "output_type": "stream",
          "text": [
            "              precision    recall  f1-score   support\n",
            "\n",
            "           0       0.92      1.00      0.96     84914\n",
            "           1       0.49      0.01      0.02      7340\n",
            "\n",
            "    accuracy                           0.92     92254\n",
            "   macro avg       0.71      0.50      0.49     92254\n",
            "weighted avg       0.89      0.92      0.88     92254\n",
            "\n",
            "Random Forest accuracy before sampling: 0.9204045353047022\n"
          ],
          "name": "stdout"
        }
      ]
    },
    {
      "cell_type": "code",
      "metadata": {
        "colab": {
          "base_uri": "https://localhost:8080/",
          "height": 279
        },
        "id": "NaSuhBsRjF1c",
        "outputId": "9b942891-9094-4ed5-cfc9-04205d7f2208"
      },
      "source": [
        "pd.value_counts(y_true).plot.bar()"
      ],
      "execution_count": null,
      "outputs": [
        {
          "output_type": "execute_result",
          "data": {
            "text/plain": [
              "<matplotlib.axes._subplots.AxesSubplot at 0x7fcbbabf13d0>"
            ]
          },
          "metadata": {
            "tags": []
          },
          "execution_count": 36
        },
        {
          "output_type": "display_data",
          "data": {
            "image/png": "[encoded data removed]",
            "text/plain": [
              "<Figure size 432x288 with 1 Axes>"
            ]
          },
          "metadata": {
            "tags": [],
            "needs_background": "light"
          }
        }
      ]
    },
    {
      "cell_type": "markdown",
      "metadata": {
        "id": "z4pgoilD-MmB"
      },
      "source": [
        "Looking at the plot we can see that the data is highly imbalanced. \n"
      ]
    },
    {
      "cell_type": "code",
      "metadata": {
        "colab": {
          "base_uri": "https://localhost:8080/"
        },
        "id": "9w8F1tLDlv4p",
        "outputId": "9d99034c-2727-47b5-ade6-727372150647"
      },
      "source": [
        "print(y_true.value_counts())"
      ],
      "execution_count": null,
      "outputs": [
        {
          "output_type": "stream",
          "text": [
            "0    282686\n",
            "1     24825\n",
            "Name: TARGET, dtype: int64\n"
          ],
          "name": "stdout"
        }
      ]
    },
    {
      "cell_type": "markdown",
      "metadata": {
        "id": "4XtaIEBy-acl"
      },
      "source": [
        "Performing sampling on the dataset to balance data using SMOTE function\n",
        "Train:Test = 70:30"
      ]
    },
    {
      "cell_type": "code",
      "metadata": {
        "id": "fOWRrnHqZFSN"
      },
      "source": [
        "X_train1,X_test1,y_train1,y_test1 = train_test_split(new_app_trainset_sub, y_true, random_state=0, test_size=0.3)"
      ],
      "execution_count": null,
      "outputs": []
    },
    {
      "cell_type": "code",
      "metadata": {
        "colab": {
          "base_uri": "https://localhost:8080/",
          "height": 333
        },
        "id": "9Ks_I3tzL4KV",
        "outputId": "f9e0ff01-95a7-4dcc-bb08-b96203cb69e1"
      },
      "source": [
        "sm1 = SMOTE(random_state=27)\n",
        "X_train_sm1, y_train_sm1 = sm1.fit_sample(X_train1, y_train1)\n",
        "pd.value_counts(y_train_sm1).plot.bar()\n"
      ],
      "execution_count": null,
      "outputs": [
        {
          "output_type": "stream",
          "text": [
            "/usr/local/lib/python3.7/dist-packages/sklearn/utils/deprecation.py:87: FutureWarning: Function safe_indexing is deprecated; safe_indexing is deprecated in version 0.22 and will be removed in version 0.24.\n",
            "  warnings.warn(msg, category=FutureWarning)\n"
          ],
          "name": "stderr"
        },
        {
          "output_type": "execute_result",
          "data": {
            "text/plain": [
              "<matplotlib.axes._subplots.AxesSubplot at 0x7fcbb9a064d0>"
            ]
          },
          "metadata": {
            "tags": []
          },
          "execution_count": 39
        },
        {
          "output_type": "display_data",
          "data": {
            "image/png": "[encoded data removed]",
            "text/plain": [
              "<Figure size 432x288 with 1 Axes>"
            ]
          },
          "metadata": {
            "tags": [],
            "needs_background": "light"
          }
        }
      ]
    },
    {
      "cell_type": "code",
      "metadata": {
        "colab": {
          "base_uri": "https://localhost:8080/"
        },
        "id": "chiZwGNWMT_6",
        "outputId": "d768a84b-4a9b-4f99-bd25-6cbbec338108"
      },
      "source": [
        "# Decision Tree \n",
        "dtree1 = DecisionTreeClassifier()\n",
        "dtree1.fit(X_train_sm1,y_train_sm1)\n",
        "predictions_sm1 = dtree1.predict(X_test1)\n",
        "print(classification_report(y_test1,predictions_sm1))\n",
        "dt_accuracy_sm1 = metrics.accuracy_score(y_test1, predictions_sm1)\n",
        "print(\"Decision tree accuracy after sampling with split 70:30: \",str(dt_accuracy_sm1))"
      ],
      "execution_count": null,
      "outputs": [
        {
          "output_type": "stream",
          "text": [
            "              precision    recall  f1-score   support\n",
            "\n",
            "           0       0.93      0.84      0.88     84914\n",
            "           1       0.12      0.26      0.16      7340\n",
            "\n",
            "    accuracy                           0.79     92254\n",
            "   macro avg       0.52      0.55      0.52     92254\n",
            "weighted avg       0.86      0.79      0.82     92254\n",
            "\n",
            "Decision tree accuracy after sampling with split 70:30:  0.7921282546014266\n"
          ],
          "name": "stdout"
        }
      ]
    },
    {
      "cell_type": "code",
      "metadata": {
        "colab": {
          "base_uri": "https://localhost:8080/"
        },
        "id": "q2dJdV9pMiqN",
        "outputId": "1dd6b0cc-4dab-4ca9-c196-5f668aa85e04"
      },
      "source": [
        "# Random Forest\n",
        "rf1 = RandomForestClassifier(random_state=27)\n",
        "rf1.fit(X_train_sm1, y_train_sm1)\n",
        "rf_pred1 = rf1.predict(X_test1)\n",
        "print(confusion_matrix(y_test1,rf_pred1))\n",
        "print(classification_report(y_test1,rf_pred1))"
      ],
      "execution_count": null,
      "outputs": [
        {
          "output_type": "stream",
          "text": [
            "[[81099  3815]\n",
            " [ 6231  1109]]\n",
            "              precision    recall  f1-score   support\n",
            "\n",
            "           0       0.93      0.96      0.94     84914\n",
            "           1       0.23      0.15      0.18      7340\n",
            "\n",
            "    accuracy                           0.89     92254\n",
            "   macro avg       0.58      0.55      0.56     92254\n",
            "weighted avg       0.87      0.89      0.88     92254\n",
            "\n"
          ],
          "name": "stdout"
        }
      ]
    },
    {
      "cell_type": "code",
      "metadata": {
        "colab": {
          "base_uri": "https://localhost:8080/",
          "height": 692
        },
        "id": "TS5mduQnTW27",
        "outputId": "e2734e6b-139f-4b25-bad0-a7652a0eb83a"
      },
      "source": [
        "print(\"Random Forest after sampling with split 70:30:\")\n",
        "rf_accuracy_sm1=metrics.accuracy_score(y_test1, rf_pred1)\n",
        "matrix1= confusion_matrix(y_test1, rf_pred1)\n",
        "tp1 = matrix1[1,1]\n",
        "fp1 = matrix1[0,1]\n",
        "tn1 = matrix1[0,0]\n",
        "fn1 = matrix1[1,0]\n",
        "prec1 = (tp1)/(tp1+fp1)\n",
        "recall1 = (tp1)/(tp1+fn1)\n",
        "f1_1 = f1_score(y_test1,rf_pred1) \n",
        "print(\"Accuracy: \"+str(rf_accuracy_sm1))\n",
        "print(\"Precision: \"+str(prec1))\n",
        "print(\"Recall: \"+str(recall1))\n",
        "print(\"F1 Score: \"+str(f1_1))\n",
        "\n",
        "probs1 = rf1.predict_proba(X_test1)\n",
        "preds1 = probs1[:,1]\n",
        "fpr1, tpr1, threshold = metrics.roc_curve(y_test1, preds1)\n",
        "roc_auc1 = metrics.auc(fpr1, tpr1)\n",
        "print(\"roc-auc score: \"+str(roc_auc1))\n",
        "plt.plot(fpr1, tpr1, 'b', label = 'AUC = %0.2f' % roc_auc1)\n",
        "plt.legend(loc = 'lower right')\n",
        "plt.plot([0, 1], [0, 1],'r--')\n",
        "plt.xlim([0, 1])\n",
        "plt.ylim([0, 1])\n",
        "plt.title(\"ROC Curve\")\n",
        "plt.ylabel('True Positive Rate')\n",
        "plt.xlabel('False Positive Rate')\n",
        "plt.show()\n",
        "\n",
        "precision1, recall1, thresholds = precision_recall_curve(y_test1, preds1)\n",
        "plt.title(\"Precision-Recall curve\")\n",
        "plt.xlabel('recall')\n",
        "plt.ylabel('precision')\n",
        "plt.plot(recall1,precision1,marker='.')\n"
      ],
      "execution_count": null,
      "outputs": [
        {
          "output_type": "stream",
          "text": [
            "Random Forest after sampling with split 70:30:\n",
            "Accuracy: 0.8911049927374423\n",
            "Precision: 0.2252233956133225\n",
            "Recall: 0.1510899182561308\n",
            "F1 Score: 0.18085453359425963\n",
            "roc-auc score: 0.6969565440757852\n"
          ],
          "name": "stdout"
        },
        {
          "output_type": "display_data",
          "data": {
            "image/png": "[encoded data removed]",
            "text/plain": [
              "<Figure size 432x288 with 1 Axes>"
            ]
          },
          "metadata": {
            "tags": [],
            "needs_background": "light"
          }
        },
        {
          "output_type": "execute_result",
          "data": {
            "text/plain": [
              "[<matplotlib.lines.Line2D at 0x7fcbb0ddd590>]"
            ]
          },
          "metadata": {
            "tags": []
          },
          "execution_count": 42
        },
        {
          "output_type": "display_data",
          "data": {
            "image/png": "[encoded data removed]",
            "text/plain": [
              "<Figure size 432x288 with 1 Axes>"
            ]
          },
          "metadata": {
            "tags": [],
            "needs_background": "light"
          }
        }
      ]
    },
    {
      "cell_type": "markdown",
      "metadata": {
        "id": "JiURk4FAcfol"
      },
      "source": [
        "Applying PCA"
      ]
    },
    {
      "cell_type": "code",
      "metadata": {
        "colab": {
          "base_uri": "https://localhost:8080/"
        },
        "id": "xqltXlCkQHBz",
        "outputId": "81104c07-9d06-40ef-8f77-fa17643cd01c"
      },
      "source": [
        "pca1=PCA()\n",
        "principal_components1 = pca1.fit_transform(new_app_trainset_sub)\n",
        "pca1.explained_variance_ratio_.cumsum()\n",
        "\n",
        "pca2=PCA()\n",
        "principal_components2 = pca2.fit_transform(new_app_test_sub)\n",
        "pca2.explained_variance_ratio_.cumsum()"
      ],
      "execution_count": null,
      "outputs": [
        {
          "output_type": "execute_result",
          "data": {
            "text/plain": [
              "array([0.18696918, 0.31534698, 0.42410692, 0.49639669, 0.56205074,\n",
              "       0.61837752, 0.673939  , 0.72643153, 0.77770057, 0.825467  ,\n",
              "       0.86400431, 0.90131249, 0.93469103, 0.96676418, 0.98195621,\n",
              "       0.99617914, 0.99935142, 1.        ])"
            ]
          },
          "metadata": {
            "tags": []
          },
          "execution_count": 43
        }
      ]
    },
    {
      "cell_type": "code",
      "metadata": {
        "id": "P0OLlHLUU4s8"
      },
      "source": [
        "pca1=PCA(n_components=18)\n",
        "principal_components1 = pca1.fit_transform(new_app_trainset_sub)\n",
        "new_app_trainset_trans = pd.DataFrame(data=principal_components1, columns=['pca1','pca2','pca3','pca4','pca5','pca6','pca7','pca8','pca9','pca10','pca11','pca12','pca13','pca14','pca15','pca16','pca17','pca18'])\n",
        "\n",
        "pca2=PCA(n_components=18)\n",
        "principal_components2 = pca2.fit_transform(new_app_test_sub)\n",
        "new_app_test_trans = pd.DataFrame(data=principal_components2,columns=['pca1','pca2','pca3','pca4','pca5','pca6','pca7','pca8','pca9','pca10','pca11','pca12','pca13','pca14','pca15','pca16','pca17','pca18'])\n",
        "\n"
      ],
      "execution_count": null,
      "outputs": []
    },
    {
      "cell_type": "code",
      "metadata": {
        "id": "QuBB10FBVs8C"
      },
      "source": [
        "X_train_PCA, X_test_PCA, y_train_PCA, y_test_PCA = train_test_split(new_app_trainset_trans, y_true, random_state=6, test_size=0.3)\n"
      ],
      "execution_count": null,
      "outputs": []
    },
    {
      "cell_type": "code",
      "metadata": {
        "colab": {
          "base_uri": "https://localhost:8080/",
          "height": 333
        },
        "id": "3FpTKUoRQBI6",
        "outputId": "8be17fb9-dcf5-4b89-c7df-1f5f77e11228"
      },
      "source": [
        "sm_PCA = SMOTE(random_state=27)\n",
        "X_train_sm_PCA, y_train_sm_PCA = sm1.fit_sample(X_train_PCA, y_train_PCA)\n",
        "pd.value_counts(y_train_sm_PCA).plot.bar()"
      ],
      "execution_count": null,
      "outputs": [
        {
          "output_type": "stream",
          "text": [
            "/usr/local/lib/python3.7/dist-packages/sklearn/utils/deprecation.py:87: FutureWarning: Function safe_indexing is deprecated; safe_indexing is deprecated in version 0.22 and will be removed in version 0.24.\n",
            "  warnings.warn(msg, category=FutureWarning)\n"
          ],
          "name": "stderr"
        },
        {
          "output_type": "execute_result",
          "data": {
            "text/plain": [
              "<matplotlib.axes._subplots.AxesSubplot at 0x7fcbb0ea2e50>"
            ]
          },
          "metadata": {
            "tags": []
          },
          "execution_count": 46
        },
        {
          "output_type": "display_data",
          "data": {
            "image/png": "[encoded data removed]",
            "text/plain": [
              "<Figure size 432x288 with 1 Axes>"
            ]
          },
          "metadata": {
            "tags": [],
            "needs_background": "light"
          }
        }
      ]
    },
    {
      "cell_type": "code",
      "metadata": {
        "colab": {
          "base_uri": "https://localhost:8080/"
        },
        "id": "NhPPua8qbx9N",
        "outputId": "391ce21f-f74f-4803-86d8-b50b748aad0c"
      },
      "source": [
        "#decision tree\n",
        "dtree_PCA = DecisionTreeClassifier()\n",
        "dtree_PCA.fit(X_train_sm_PCA,y_train_sm_PCA)\n",
        "predictions_PCA = dtree_PCA.predict(X_test_PCA)\n",
        "print(classification_report(y_test_PCA,predictions_PCA))\n",
        "dt_accuracy_sm_PCA = metrics.accuracy_score(y_test_PCA, predictions_PCA)\n",
        "print(\"Decision tree accuracy after sampling and PCA: \",str(dt_accuracy_sm_PCA))"
      ],
      "execution_count": null,
      "outputs": [
        {
          "output_type": "stream",
          "text": [
            "              precision    recall  f1-score   support\n",
            "\n",
            "           0       0.93      0.79      0.86     84888\n",
            "           1       0.12      0.34      0.18      7366\n",
            "\n",
            "    accuracy                           0.76     92254\n",
            "   macro avg       0.53      0.56      0.52     92254\n",
            "weighted avg       0.87      0.76      0.80     92254\n",
            "\n",
            "Decision tree accuracy after sampling and PCA:  0.7558263056344441\n"
          ],
          "name": "stdout"
        }
      ]
    },
    {
      "cell_type": "code",
      "metadata": {
        "colab": {
          "base_uri": "https://localhost:8080/"
        },
        "id": "iPxJt4sxVT5m",
        "outputId": "dbe50538-19f8-4214-c725-3ad8ad3aedf5"
      },
      "source": [
        "#random forest\n",
        "rf_PCA = RandomForestClassifier(random_state=27)\n",
        "rf_PCA.fit(X_train_sm_PCA, y_train_sm_PCA)\n",
        "rf_pred_PCA = rf_PCA.predict(X_test_PCA)\n",
        "print(confusion_matrix(y_test_PCA,rf_pred_PCA))\n",
        "print(classification_report(y_test_PCA,rf_pred_PCA))\n",
        "rf_accuracy_sm_PCA=metrics.accuracy_score(y_test_PCA, rf_pred_PCA)\n",
        "print(\"Random Forest accuracy after sampling and PCA: \"+str(rf_accuracy_sm_PCA))"
      ],
      "execution_count": null,
      "outputs": [
        {
          "output_type": "stream",
          "text": [
            "[[77951  6937]\n",
            " [ 5479  1887]]\n",
            "              precision    recall  f1-score   support\n",
            "\n",
            "           0       0.93      0.92      0.93     84888\n",
            "           1       0.21      0.26      0.23      7366\n",
            "\n",
            "    accuracy                           0.87     92254\n",
            "   macro avg       0.57      0.59      0.58     92254\n",
            "weighted avg       0.88      0.87      0.87     92254\n",
            "\n",
            "Random Forest accuracy after sampling and PCA: 0.8654150497539402\n"
          ],
          "name": "stdout"
        }
      ]
    },
    {
      "cell_type": "markdown",
      "metadata": {
        "id": "5F9olqkVcqAz"
      },
      "source": [
        "Train:Test=80:20"
      ]
    },
    {
      "cell_type": "code",
      "metadata": {
        "id": "6EMtgMvibw6A"
      },
      "source": [
        "X_train2, X_test2, y_train2, y_test2 = train_test_split(new_app_trainset_sub, y_true, random_state=27, test_size=0.2)\n"
      ],
      "execution_count": null,
      "outputs": []
    },
    {
      "cell_type": "code",
      "metadata": {
        "colab": {
          "base_uri": "https://localhost:8080/",
          "height": 333
        },
        "id": "0T7oIs82czGg",
        "outputId": "63be9778-1a7a-49d6-9ae3-853dbae9c15d"
      },
      "source": [
        "sm2 = SMOTE(random_state=27)\n",
        "X_train_sm2, y_train_sm2 = sm2.fit_sample(X_train2, y_train2)\n",
        "pd.value_counts(y_train_sm2).plot.bar()"
      ],
      "execution_count": null,
      "outputs": [
        {
          "output_type": "stream",
          "text": [
            "/usr/local/lib/python3.7/dist-packages/sklearn/utils/deprecation.py:87: FutureWarning: Function safe_indexing is deprecated; safe_indexing is deprecated in version 0.22 and will be removed in version 0.24.\n",
            "  warnings.warn(msg, category=FutureWarning)\n"
          ],
          "name": "stderr"
        },
        {
          "output_type": "execute_result",
          "data": {
            "text/plain": [
              "<matplotlib.axes._subplots.AxesSubplot at 0x7fcbb9bb2310>"
            ]
          },
          "metadata": {
            "tags": []
          },
          "execution_count": 50
        },
        {
          "output_type": "display_data",
          "data": {
            "image/png": "[encoded data removed]",
            "text/plain": [
              "<Figure size 432x288 with 1 Axes>"
            ]
          },
          "metadata": {
            "tags": [],
            "needs_background": "light"
          }
        }
      ]
    },
    {
      "cell_type": "code",
      "metadata": {
        "colab": {
          "base_uri": "https://localhost:8080/"
        },
        "id": "ylLzjlLUc4cQ",
        "outputId": "c5ceeb6b-7d30-48ee-fd61-b52948edb547"
      },
      "source": [
        "#decision tree\n",
        "dtree2 = DecisionTreeClassifier()\n",
        "dtree2.fit(X_train_sm2,y_train_sm2)\n",
        "predictions2 = dtree2.predict(X_test2)\n",
        "print(classification_report(y_test2,predictions2))\n",
        "dt_accuracy_sm2 = metrics.accuracy_score(y_test2, predictions2)\n",
        "print(\"Decision tree accuracy after sampling with split 80:20 : \",str(dt_accuracy_sm2))"
      ],
      "execution_count": null,
      "outputs": [
        {
          "output_type": "stream",
          "text": [
            "              precision    recall  f1-score   support\n",
            "\n",
            "           0       0.93      0.84      0.88     56460\n",
            "           1       0.12      0.25      0.16      5043\n",
            "\n",
            "    accuracy                           0.79     61503\n",
            "   macro avg       0.52      0.54      0.52     61503\n",
            "weighted avg       0.86      0.79      0.82     61503\n",
            "\n",
            "Decision tree accuracy after sampling with split 80:20 :  0.792530445669317\n"
          ],
          "name": "stdout"
        }
      ]
    },
    {
      "cell_type": "code",
      "metadata": {
        "colab": {
          "base_uri": "https://localhost:8080/"
        },
        "id": "2uqgYsrocv-z",
        "outputId": "c0752e3a-d092-4497-f843-224f9bacda56"
      },
      "source": [
        "#random forest\n",
        "rf2 = RandomForestClassifier(random_state=27)\n",
        "rf2.fit(X_train_sm2, y_train_sm2)\n",
        "rf_pred2 = rf2.predict(X_test2)\n",
        "print(confusion_matrix(y_test2,rf_pred2))\n",
        "print(classification_report(y_test2,rf_pred2))"
      ],
      "execution_count": null,
      "outputs": [
        {
          "output_type": "stream",
          "text": [
            "[[53867  2593]\n",
            " [ 4272   771]]\n",
            "              precision    recall  f1-score   support\n",
            "\n",
            "           0       0.93      0.95      0.94     56460\n",
            "           1       0.23      0.15      0.18      5043\n",
            "\n",
            "    accuracy                           0.89     61503\n",
            "   macro avg       0.58      0.55      0.56     61503\n",
            "weighted avg       0.87      0.89      0.88     61503\n",
            "\n"
          ],
          "name": "stdout"
        }
      ]
    },
    {
      "cell_type": "code",
      "metadata": {
        "colab": {
          "base_uri": "https://localhost:8080/",
          "height": 692
        },
        "id": "mRj-niEHSbJB",
        "outputId": "c68e58dc-1abe-453b-b24f-17500d71ac88"
      },
      "source": [
        "print(\"Random Forest after sampling with split 80:20:\")\n",
        "rf_accuracy_sm2=metrics.accuracy_score(y_test2, rf_pred2)\n",
        "matrix2= confusion_matrix(y_test2, rf_pred2)\n",
        "tp2 = matrix2[1,1]\n",
        "fp2 = matrix2[0,1]\n",
        "tn2 = matrix2[0,0]\n",
        "fn2 = matrix2[1,0]\n",
        "prec2 = (tp2)/(tp2+fp2)\n",
        "recall2 = (tp2)/(tp2+fn2)\n",
        "f1_2 = f1_score(y_test2,rf_pred2) \n",
        "print(\"Accuracy: \"+str(rf_accuracy_sm2))\n",
        "print(\"Precision: \"+str(prec2))\n",
        "print(\"Recall: \"+str(recall2))\n",
        "print(\"F1 Score: \"+str(f1_2))\n",
        "\n",
        "probs2 = rf2.predict_proba(X_test2)\n",
        "preds2 = probs2[:,1]\n",
        "fpr2, tpr2, threshold = metrics.roc_curve(y_test2, preds2)\n",
        "roc_auc2 = metrics.auc(fpr2, tpr2)\n",
        "print(\"roc-auc score: \"+str(roc_auc2))\n",
        "plt.plot(fpr2, tpr2, 'b', label = 'AUC = %0.2f' % roc_auc2)\n",
        "plt.legend(loc = 'lower right')\n",
        "plt.plot([0, 1], [0, 1],'r--')\n",
        "plt.xlim([0, 1])\n",
        "plt.ylim([0, 1])\n",
        "plt.title(\"ROC Curve\")\n",
        "plt.ylabel('True Positive Rate')\n",
        "plt.xlabel('False Positive Rate')\n",
        "plt.show()\n",
        "\n",
        "precision2, recall2, thresholds = precision_recall_curve(y_test2, preds2)\n",
        "plt.title(\"Precision-Recall curve\")\n",
        "plt.xlabel('recall')\n",
        "plt.ylabel('precision')\n",
        "plt.plot(recall2,precision2,marker='.')\n"
      ],
      "execution_count": null,
      "outputs": [
        {
          "output_type": "stream",
          "text": [
            "Random Forest after sampling with split 80:20:\n",
            "Accuracy: 0.8883794286457571\n",
            "Precision: 0.22919143876337694\n",
            "Recall: 0.15288518738845924\n",
            "F1 Score: 0.1834185797549661\n",
            "roc-auc score: 0.6974973692415964\n"
          ],
          "name": "stdout"
        },
        {
          "output_type": "display_data",
          "data": {
            "image/png": "[encoded data removed]",
            "text/plain": [
              "<Figure size 432x288 with 1 Axes>"
            ]
          },
          "metadata": {
            "tags": [],
            "needs_background": "light"
          }
        },
        {
          "output_type": "execute_result",
          "data": {
            "text/plain": [
              "[<matplotlib.lines.Line2D at 0x7fcbb0e80f50>]"
            ]
          },
          "metadata": {
            "tags": []
          },
          "execution_count": 53
        },
        {
          "output_type": "display_data",
          "data": {
            "image/png": "[encoded data removed]",
            "text/plain": [
              "<Figure size 432x288 with 1 Axes>"
            ]
          },
          "metadata": {
            "tags": [],
            "needs_background": "light"
          }
        }
      ]
    },
    {
      "cell_type": "markdown",
      "metadata": {
        "id": "2Gke28yVdKUJ"
      },
      "source": [
        "Train:Test = 60:40"
      ]
    },
    {
      "cell_type": "code",
      "metadata": {
        "id": "nBpqDEWJdNmX"
      },
      "source": [
        "X_train3, X_test3, y_train3, y_test3 = train_test_split(new_app_trainset_sub,y_true, random_state=6, test_size=0.4)\n"
      ],
      "execution_count": null,
      "outputs": []
    },
    {
      "cell_type": "code",
      "metadata": {
        "colab": {
          "base_uri": "https://localhost:8080/",
          "height": 333
        },
        "id": "DPmrzjSodSEI",
        "outputId": "e743ca0f-0dbc-4a01-bad8-dfa6090d6aea"
      },
      "source": [
        "sm3 = SMOTE(random_state=27)\n",
        "X_train_sm3, y_train_sm3 = sm3.fit_sample(X_train3, y_train3)\n",
        "pd.value_counts(y_train_sm3).plot.bar()"
      ],
      "execution_count": null,
      "outputs": [
        {
          "output_type": "stream",
          "text": [
            "/usr/local/lib/python3.7/dist-packages/sklearn/utils/deprecation.py:87: FutureWarning: Function safe_indexing is deprecated; safe_indexing is deprecated in version 0.22 and will be removed in version 0.24.\n",
            "  warnings.warn(msg, category=FutureWarning)\n"
          ],
          "name": "stderr"
        },
        {
          "output_type": "execute_result",
          "data": {
            "text/plain": [
              "<matplotlib.axes._subplots.AxesSubplot at 0x7fcbb0e10e10>"
            ]
          },
          "metadata": {
            "tags": []
          },
          "execution_count": 55
        },
        {
          "output_type": "display_data",
          "data": {
            "image/png": "[encoded data removed]",
            "text/plain": [
              "<Figure size 432x288 with 1 Axes>"
            ]
          },
          "metadata": {
            "tags": [],
            "needs_background": "light"
          }
        }
      ]
    },
    {
      "cell_type": "code",
      "metadata": {
        "colab": {
          "base_uri": "https://localhost:8080/"
        },
        "id": "iUIET9_-dYrR",
        "outputId": "da8425f7-ed48-4377-a691-3f5bcd6a9868"
      },
      "source": [
        "#decision tree\n",
        "dtree3 = DecisionTreeClassifier()\n",
        "dtree3.fit(X_train_sm3,y_train_sm3)\n",
        "predictions3 = dtree3.predict(X_test3)\n",
        "print(classification_report(y_test3,predictions3))\n",
        "dt_accuracy_sm3 = metrics.accuracy_score(y_test3, predictions3)\n",
        "print(\"Decision tree accuracy after sampling with split 60:40 : \",str(dt_accuracy_sm3))\n"
      ],
      "execution_count": null,
      "outputs": [
        {
          "output_type": "stream",
          "text": [
            "              precision    recall  f1-score   support\n",
            "\n",
            "           0       0.93      0.84      0.88    113116\n",
            "           1       0.12      0.25      0.16      9889\n",
            "\n",
            "    accuracy                           0.79    123005\n",
            "   macro avg       0.52      0.54      0.52    123005\n",
            "weighted avg       0.86      0.79      0.82    123005\n",
            "\n",
            "Decision tree accuracy after sampling with split 60:40 :  0.7877809845128246\n"
          ],
          "name": "stdout"
        }
      ]
    },
    {
      "cell_type": "code",
      "metadata": {
        "colab": {
          "base_uri": "https://localhost:8080/"
        },
        "id": "LfcLwI8Sddtk",
        "outputId": "588c60d5-c3d6-4142-f201-54e2eef77225"
      },
      "source": [
        "#random forest\n",
        "rf3 = RandomForestClassifier(random_state=27)\n",
        "rf3.fit(X_train_sm3, y_train_sm3)\n",
        "rf_pred3 = rf3.predict(X_test3)\n",
        "print(confusion_matrix(y_test3,rf_pred3))\n",
        "print(classification_report(y_test3,rf_pred3))\n"
      ],
      "execution_count": null,
      "outputs": [
        {
          "output_type": "stream",
          "text": [
            "[[108027   5089]\n",
            " [  8467   1422]]\n",
            "              precision    recall  f1-score   support\n",
            "\n",
            "           0       0.93      0.96      0.94    113116\n",
            "           1       0.22      0.14      0.17      9889\n",
            "\n",
            "    accuracy                           0.89    123005\n",
            "   macro avg       0.57      0.55      0.56    123005\n",
            "weighted avg       0.87      0.89      0.88    123005\n",
            "\n"
          ],
          "name": "stdout"
        }
      ]
    },
    {
      "cell_type": "code",
      "metadata": {
        "colab": {
          "base_uri": "https://localhost:8080/",
          "height": 692
        },
        "id": "gyDLkpWDLTDh",
        "outputId": "73726252-db23-4e10-a4cd-a367271a92bf"
      },
      "source": [
        "print(\"Random Forest after sampling with split 60:40:\")\n",
        "rf_accuracy_sm3=metrics.accuracy_score(y_test3, rf_pred3)\n",
        "matrix3= confusion_matrix(y_test3, rf_pred3)\n",
        "tp3 = matrix3[1,1]\n",
        "fp3 = matrix3[0,1]\n",
        "tn3 = matrix3[0,0]\n",
        "fn3 = matrix3[1,0]\n",
        "prec3 = (tp3)/(tp3+fp3)\n",
        "recall3 = (tp3)/(tp3+fn3)\n",
        "f1_3 = f1_score(y_test3,rf_pred3) \n",
        "print(\"Accuracy: \"+str(rf_accuracy_sm3))\n",
        "print(\"Precision: \"+str(prec3))\n",
        "print(\"Recall: \"+str(recall3))\n",
        "print(\"F1 Score: \"+str(f1_3))\n",
        "\n",
        "probs3 = rf3.predict_proba(X_test3)\n",
        "preds3 = probs3[:,1]\n",
        "fpr3, tpr3, threshold = metrics.roc_curve(y_test3, preds3)\n",
        "roc_auc3 = metrics.auc(fpr3, tpr3)\n",
        "print(\"roc-auc score: \"+str(roc_auc3))\n",
        "plt.plot(fpr3, tpr3, 'b', label = 'AUC = %0.2f' % roc_auc3)\n",
        "plt.legend(loc = 'lower right')\n",
        "plt.plot([0, 1], [0, 1],'r--')\n",
        "plt.xlim([0, 1])\n",
        "plt.ylim([0, 1])\n",
        "plt.title(\"ROC Curve\")\n",
        "plt.ylabel('True Positive Rate')\n",
        "plt.xlabel('False Positive Rate')\n",
        "plt.show()\n",
        "\n",
        "precision3, recall3, thresholds = precision_recall_curve(y_test3, preds3)\n",
        "plt.title(\"Precision-Recall curve\")\n",
        "plt.xlabel('recall')\n",
        "plt.ylabel('precision')\n",
        "plt.plot(recall3,precision3,marker='.')\n"
      ],
      "execution_count": 60,
      "outputs": [
        {
          "output_type": "stream",
          "text": [
            "Random Forest after sampling with split 60:40:\n",
            "Accuracy: 0.8897930978415511\n",
            "Precision: 0.21839963139302718\n",
            "Recall: 0.1437961371220548\n",
            "F1 Score: 0.17341463414634148\n",
            "roc-auc score: 0.6968900161144052\n"
          ],
          "name": "stdout"
        },
        {
          "output_type": "display_data",
          "data": {
            "image/png": "[encoded data removed]",
            "text/plain": [
              "<Figure size 432x288 with 1 Axes>"
            ]
          },
          "metadata": {
            "tags": [],
            "needs_background": "light"
          }
        },
        {
          "output_type": "execute_result",
          "data": {
            "text/plain": [
              "[<matplotlib.lines.Line2D at 0x7fcbae9bcf50>]"
            ]
          },
          "metadata": {
            "tags": []
          },
          "execution_count": 60
        },
        {
          "output_type": "display_data",
          "data": {
            "image/png": "[encoded data removed]",
            "text/plain": [
              "<Figure size 432x288 with 1 Axes>"
            ]
          },
          "metadata": {
            "tags": [],
            "needs_background": "light"
          }
        }
      ]
    },
    {
      "cell_type": "markdown",
      "metadata": {
        "id": "W7WHGhX1_W-q"
      },
      "source": [
        "Looing at Feature importance in the random forest:\n"
      ]
    },
    {
      "cell_type": "code",
      "metadata": {
        "colab": {
          "base_uri": "https://localhost:8080/"
        },
        "id": "jEgw5mmMBIvD",
        "outputId": "41be32b3-5c8b-4359-9429-8e7cc4966e6c"
      },
      "source": [
        "lst=rf1.feature_importances_\n",
        "d={'columns':new_app_trainset.columns,'features':lst}\n",
        "dff=pd.DataFrame(d)\n",
        "dff=dff.sort_values(by=['features'],ascending=False)\n",
        "print(dff)"
      ],
      "execution_count": 63,
      "outputs": [
        {
          "output_type": "stream",
          "text": [
            "                        columns  features\n",
            "11                 EXT_SOURCE_3  0.110404\n",
            "13                FLOORSMAX_AVG  0.108461\n",
            "10                 EXT_SOURCE_2  0.100881\n",
            "8               OCCUPATION_TYPE  0.086571\n",
            "4              AMT_INCOME_TOTAL  0.081473\n",
            "7               AMT_GOODS_PRICE  0.065388\n",
            "17      YEARS_LAST_PHONE_CHANGE  0.064848\n",
            "14                  YEARS_BIRTH  0.059568\n",
            "6                    AMT_CREDIT  0.056908\n",
            "5                   AMT_ANNUITY  0.056487\n",
            "0                    SK_ID_CURR  0.055712\n",
            "12               YEARS_EMPLOYED  0.055552\n",
            "9                  EXT_SOURCE_1  0.055222\n",
            "2                   CODE_GENDER  0.010485\n",
            "3                  FLAG_OWN_CAR  0.009827\n",
            "16         REGION_RATING_CLIENT  0.008993\n",
            "15  REGION_RATING_CLIENT_W_CITY  0.008892\n",
            "1            NAME_CONTRACT_TYPE  0.004329\n"
          ],
          "name": "stdout"
        }
      ]
    },
    {
      "cell_type": "code",
      "metadata": {
        "colab": {
          "base_uri": "https://localhost:8080/"
        },
        "id": "yuj-evXSBlRs",
        "outputId": "3e85f19f-86f6-4c79-b7c6-7959e7ef1df6"
      },
      "source": [
        "impFeatures=dff.iloc[0:10,0:1]\n",
        "impFeatures=impFeatures['columns'].values.tolist()\n",
        "print(impFeatures)\n"
      ],
      "execution_count": 64,
      "outputs": [
        {
          "output_type": "stream",
          "text": [
            "['EXT_SOURCE_3', 'FLOORSMAX_AVG', 'EXT_SOURCE_2', 'OCCUPATION_TYPE', 'AMT_INCOME_TOTAL', 'AMT_GOODS_PRICE', 'YEARS_LAST_PHONE_CHANGE', 'YEARS_BIRTH', 'AMT_CREDIT', 'AMT_ANNUITY']\n"
          ],
          "name": "stdout"
        }
      ]
    }
  ]
}